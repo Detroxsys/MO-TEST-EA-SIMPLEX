{
 "cells": [
  {
   "cell_type": "markdown",
   "metadata": {},
   "source": [
    "# Notebook para obtener población y métricas de experimentos con múltiples algoritmos geneticos\n",
    "\n",
    "## Bibliotecas"
   ]
  },
  {
   "cell_type": "code",
   "execution_count": 3,
   "metadata": {},
   "outputs": [],
   "source": [
    "#Básicos para manipulacion de datos \n",
    "import pandas as pd\n",
    "import numpy as np\n",
    "#Graficas \n",
    "import matplotlib.pyplot as plt\n",
    "import seaborn as sns\n",
    "sns.set_theme()\n",
    "#Auxiliares\n",
    "from tqdm import tqdm\n",
    "from itertools import compress\n",
    "from sklearn.preprocessing import MinMaxScaler\n",
    "#Optimización multiobjetivo \n",
    "from pymoo.optimize import minimize\n",
    "from pymoo.core.repair import Repair\n",
    "#Algoritmos evolutivos\n",
    "from pymoo.algorithms.moo.nsga2 import NSGA2\n",
    "from pymoo.algorithms.moo.sms import SMSEMOA\n",
    "#Operadores \n",
    "from pymoo.visualization.scatter import Scatter\n",
    "\n",
    "#Features pymoo api \n",
    "from pymoo.problems import get_problem\n",
    "from pymoo.termination import get_termination\n",
    "from pymoo.problems import get_problem\n",
    "#Indicadores\n",
    "from pymoo.indicators.hv import HV\n",
    "#Población (soluciones)\n",
    "from pymoo.core.population import Population\n",
    "\n",
    "\n",
    "class Simplex_Repair(Repair):\n",
    "    def _do(self, problem, X, **kwargs):\n",
    "        X[X < 1e-5] = 0\n",
    "        return X / X.sum(axis=1, keepdims=True)"
   ]
  },
  {
   "cell_type": "code",
   "execution_count": 4,
   "metadata": {},
   "outputs": [],
   "source": [
    "#(n_ejec, n_gen, variable_size, n_var )\n",
    "def get_best_opt(population, population_var,A = None, A_vars=None,  tol=1e-6):\n",
    "  pop_size, n_obj = population.shape\n",
    "  _, n_var = population_var.shape\n",
    "  #Copia de poblacion\n",
    "  population = population[:]\n",
    "  #Guardamos los índices \n",
    "  indx = range(pop_size)\n",
    "  #Archivo fantasma inicial \n",
    "  if A is None: \n",
    "      A = np.array( [[np.inf]*n_obj])\n",
    "      A_vars = np.array([[np.inf]*n_obj])\n",
    "  #best_idx = [None]\n",
    "  #Iterar sobre los portafolios\n",
    "  for row in population:\n",
    "  #for idx, row in zip(indx, population):\n",
    "    test1 = (A <= row).all(axis=1)\n",
    "    test2 = np.linalg.norm(A-row, ord=1, axis=1) > tol\n",
    "    if not ((test1) & (test2)).any(): \n",
    "      A = np.vstack([A,row])\n",
    "      A_vars = np.vstack([A_vars, row])\n",
    "      #best_idx.append(idx)\n",
    "      test1 = (row <= A).all(axis=1)\n",
    "      test2 = np.linalg.norm(row- A, ord=2, axis=1)> tol\n",
    "      A = A[~((test1) & (test2)) ,:]\n",
    "      A_vars = A_vars[~((test1) & (test2)) ,:]\n",
    "      #best_idx = list(compress(best_idx,~((test1) & (test2))))\n",
    "  return A, A_vars\n",
    "\n",
    "def get_full_population(res):     \n",
    "    all_pop = Population()\n",
    "    for algo in res.history:\n",
    "        all_pop = Population.merge(all_pop, algo.off)\n",
    "    X = all_pop.get('X')\n",
    "    F = all_pop.get('F')\n",
    "    return X, F \n",
    "  \n",
    "def get_algorithm(name, *args, **kwargs): \n",
    "    name = name.lower()\n",
    "    from pymoo.algorithms.moo.nsga2 import NSGA2\n",
    "    from pymoo.algorithms.moo.sms import SMSEMOA\n",
    "    from pymoo.algorithms.moo.age import AGEMOEA\n",
    "    ALGORITHM = {'nsgaii': NSGA2, \n",
    "               'sms-emoa': SMSEMOA, \n",
    "               'age-moea': AGEMOEA, \n",
    "               }\n",
    "    if name not in ALGORITHM:\n",
    "        raise Exception(\"Algorithm not found.\")\n",
    "\n",
    "    return ALGORITHM[name](*args, **kwargs)"
   ]
  },
  {
   "cell_type": "code",
   "execution_count": 5,
   "metadata": {},
   "outputs": [],
   "source": [
    "class Generator_Solutions: \n",
    "    def __init__(self, n_ejec, n_gen, name_problem, name_algorithm, kwargs_problem, kwargs_algorithm): \n",
    "        self.n_ejec = n_ejec \n",
    "        self.n_gen  = n_gen \n",
    "        self.n_obj = kwargs_problem['n_obj']\n",
    "        self.n_var = kwargs_problem['n_var']\n",
    "        self.n_pop_size = kwargs_algorithm['pop_size']\n",
    "        #PYMOO PROBLEM \n",
    "        self.name_problem = name_problem\n",
    "        try: \n",
    "            self.problem = get_problem(name_problem, **kwargs_problem)\n",
    "        except: \n",
    "            self.problem = get_problem(name_problem)\n",
    "        #PYMOO ALGORITHM  \n",
    "        self.name_algorithm = name_algorithm \n",
    "        self.algorithm = get_algorithm(name_algorithm, **kwargs_algorithm)\n",
    "        #Terminations Criterio \n",
    "        self.termination = get_termination(\"n_gen\", n_gen)\n",
    "        #(n_ejec, n_gen, n_pop_size, n_var)\n",
    "        #(n_ejec, n_gen, n_pop_size, n_var)\n",
    "        self.Mega_X = np.empty((self.n_ejec, self.n_gen, self.n_pop_size, self.n_var))\n",
    "        self.Mega_F = np.empty((self.n_ejec, self.n_gen, self.n_pop_size, self.n_obj))\n",
    "    \n",
    "    def get_extensive_population(self, save=True, name_files=''): \n",
    "        for i in range(self.n_ejec): \n",
    "            res = minimize(problem = self.problem,\n",
    "                           algorithm = self.algorithm,\n",
    "                           termination = self.termination, \n",
    "                           save_history=True)\n",
    "            for j, algo in enumerate(res.history): \n",
    "                self.Mega_X[i, j] = algo.off.get('X')\n",
    "                self.Mega_F[i, j] = algo.off.get('F')\n",
    "        if save: \n",
    "            np.save(name_files+'_X.npy', self.Mega_X)\n",
    "            np.save(name_files+'_F.npy', self.Mega_F)\n",
    "                           "
   ]
  },
  {
   "cell_type": "code",
   "execution_count": 6,
   "metadata": {},
   "outputs": [],
   "source": [
    "class Evaluator_Solutions: \n",
    "    def __init__(self, Mega_X: np.ndarray, Mega_F: np.ndarray):\n",
    "        self.n_ejec, self.n_gen, self.n_pop_size, self.n_var = Mega_X.shape\n",
    "        _, _ , _ , self.n_obj = Mega_F.shape\n",
    "        #Falta definir las salidas del HV \n",
    "        self.Mega_X = Mega_X[:]\n",
    "        self.Mega_F = Mega_F[:]\n",
    "        self.Mega_HV= np.empty((self.n_ejec, self.n_gen))\n",
    "        self.Mega_HV_Opt = np.empty((self.n_ejec, self.n_gen))\n",
    "            \n",
    "    def get_opt_HyperVolume(self, ref_point, tol=1e-4):\n",
    "        temp_Mega_F = np.reshape(self.Mega_F, newshape=(-1, self.n_obj))\n",
    "        scaler      = MinMaxScaler()\n",
    "        scaler.fit(temp_Mega_F) \n",
    "        temp_Mega_F = None  #Save RAM memory\n",
    "        ind = HV(ref_point=ref_point)\n",
    "        for i in tqdm(range(self.n_ejec)): \n",
    "            F_opt = None \n",
    "            X_opt = None\n",
    "            for j in range(self.n_gen): \n",
    "                self.Mega_HV[i,j] = ind(scaler.transform(self.Mega_F[i,j]))\n",
    "                F_opt, X_opt =get_best_opt(self.Mega_F[i,j], self.Mega_X[i,j], F_opt, X_opt, tol)\n",
    "                #F_opt, A_opt      = get_best_opt(self.Mega_F[i,j]  )\n",
    "                self.Mega_HV_Opt[i,j] = ind(scaler.transform(F_opt))\n",
    "        return \n",
    "    \n",
    "    def get_report(self, name_file=''):\n",
    "        Mega_HV = np.reshape(self.Mega_HV, newshape=(-1,))\n",
    "        Mega_HV_opt = np.reshape(self.Mega_HV_Opt, newshape=(-1))\n",
    "        Generacion = list(range(self.n_gen))*self.n_ejec\n",
    "        Problema   = [self.name_problem]*(self.n_ejec*self.n_gen)\n",
    "        Algoritmo  = [self.name_algorithm]*(self.n_ejec*self.n_gen)\n",
    "        Ejecucion = []\n",
    "        for s in range(self.n_ejec): \n",
    "            Ejecucion = Ejecucion+[s+1]*self.n_gen\n",
    "        result= {'Algoritmo':Algoritmo,\n",
    "                 'Problema':Problema, \n",
    "                 'Ejecucion':Ejecucion, \n",
    "                 'Generacion': Generacion, \n",
    "                 'HV_gen':Mega_HV, \n",
    "                 'HV_opt':Mega_HV_opt}\n",
    "        result = pd.DataFrame(result)\n",
    "        result.to_csv(name_file+'.csv', index=False)\n",
    "        return result   "
   ]
  },
  {
   "cell_type": "code",
   "execution_count": 7,
   "metadata": {},
   "outputs": [],
   "source": [
    "#Bucle para generar soluciones  \n",
    "def get_solutions(problems, vars, objs, n_ejec, n_gen, name_algorithm, kwargs_algorithm, name_oprt=''): \n",
    "    for i, name_problem in enumerate(problems): \n",
    "        print(name_problem)\n",
    "        sols = Generator_Solutions(n_ejec, n_gen, name_problem, name_algorithm, \n",
    "                                   {'n_var': vars[i], 'n_obj': objs[i]}, \n",
    "                                   kwargs_algorithm)\n",
    "        sols.get_extensive_population(save=True, name_files='Solutions/'+name_algorithm+'_'+name_oprt+'_'+name_problem)\n",
    "    return"
   ]
  },
  {
   "cell_type": "code",
   "execution_count": 8,
   "metadata": {},
   "outputs": [],
   "source": [
    "#Problems definitions \n",
    "dtlz_problems = ['dtlz1', 'dtlz2', 'dtlz3', 'dtlz4', 'dtlz5', 'dtlz6', 'dtlz7']\n",
    "dtlz_vars = [12]*len(dtlz_problems)\n",
    "dtlz_obj  = [3]*len(dtlz_problems)\n",
    "wfg_problems = ['wfg1', 'wfg2', 'wfg3', 'wfg4', 'wfg5', 'wfg6', 'wfg7', 'wfg8', 'wfg9']\n",
    "wfg_vars     = [24]*len(wfg_problems)\n",
    "wfg_obj      = [3]*len(wfg_problems)\n",
    "zdt_problems = ['zdt1', 'zdt2', 'zdt3', 'zdt4', 'zdt5', 'zdt6']\n",
    "zdt_vars     = [30]*3 +[10, 80, 10]\n",
    "zdt_obj      = [2]*len(zdt_problems)"
   ]
  },
  {
   "cell_type": "markdown",
   "metadata": {},
   "source": [
    "## Soluciones para NSGA-II simple"
   ]
  },
  {
   "cell_type": "code",
   "execution_count": 7,
   "metadata": {},
   "outputs": [
    {
     "name": "stdout",
     "output_type": "stream",
     "text": [
      "dtlz1\n"
     ]
    },
    {
     "name": "stderr",
     "output_type": "stream",
     "text": [
      "c:\\Users\\yeudi\\AppData\\Local\\Programs\\Python\\Python310\\lib\\site-packages\\pymoo\\algorithms\\moo\\age.py:212: NumbaDeprecationWarning: \u001b[1mThe 'nopython' keyword argument was not supplied to the 'numba.jit' decorator. The implicit default value for this argument is currently False, but it will be changed to True in Numba 0.59.0. See https://numba.readthedocs.io/en/stable/reference/deprecation.html#deprecation-of-object-mode-fall-back-behaviour-when-using-jit for details.\u001b[0m\n",
      "  @jit(fastmath=True)\n",
      "c:\\Users\\yeudi\\AppData\\Local\\Programs\\Python\\Python310\\lib\\site-packages\\pymoo\\algorithms\\moo\\age.py:222: NumbaDeprecationWarning: \u001b[1mThe 'nopython' keyword argument was not supplied to the 'numba.jit' decorator. The implicit default value for this argument is currently False, but it will be changed to True in Numba 0.59.0. See https://numba.readthedocs.io/en/stable/reference/deprecation.html#deprecation-of-object-mode-fall-back-behaviour-when-using-jit for details.\u001b[0m\n",
      "  @jit(fastmath=True)\n",
      "c:\\Users\\yeudi\\AppData\\Local\\Programs\\Python\\Python310\\lib\\site-packages\\pymoo\\algorithms\\moo\\age.py:257: NumbaDeprecationWarning: \u001b[1mThe 'nopython' keyword argument was not supplied to the 'numba.jit' decorator. The implicit default value for this argument is currently False, but it will be changed to True in Numba 0.59.0. See https://numba.readthedocs.io/en/stable/reference/deprecation.html#deprecation-of-object-mode-fall-back-behaviour-when-using-jit for details.\u001b[0m\n",
      "  @jit(fastmath=True)\n"
     ]
    },
    {
     "name": "stdout",
     "output_type": "stream",
     "text": [
      "dtlz2\n",
      "dtlz3\n",
      "dtlz4\n",
      "dtlz5\n",
      "dtlz6\n",
      "dtlz7\n"
     ]
    }
   ],
   "source": [
    "get_solutions(dtlz_problems, dtlz_vars, dtlz_obj, 20, 250, 'nsgaii', \n",
    "              {'pop_size':100, 'repair': Simplex_Repair()}, \n",
    "              name_oprt='baseline')"
   ]
  },
  {
   "cell_type": "code",
   "execution_count": 8,
   "metadata": {},
   "outputs": [
    {
     "name": "stdout",
     "output_type": "stream",
     "text": [
      "wfg1\n",
      "wfg2\n",
      "wfg3\n",
      "wfg4\n",
      "wfg5\n",
      "wfg6\n",
      "wfg7\n",
      "wfg8\n",
      "wfg9\n"
     ]
    }
   ],
   "source": [
    "get_solutions(wfg_problems, wfg_vars, wfg_obj, 20, 250, 'nsgaii', \n",
    "              {'pop_size':100, 'repair': Simplex_Repair()}, \n",
    "              name_oprt='baseline')"
   ]
  },
  {
   "cell_type": "code",
   "execution_count": 9,
   "metadata": {},
   "outputs": [
    {
     "name": "stdout",
     "output_type": "stream",
     "text": [
      "zdt1\n",
      "zdt2\n",
      "zdt3\n",
      "zdt4\n"
     ]
    },
    {
     "name": "stderr",
     "output_type": "stream",
     "text": [
      "C:\\Users\\yeudi\\AppData\\Local\\Temp\\ipykernel_9636\\1848661293.py:34: RuntimeWarning: invalid value encountered in divide\n",
      "  return X / X.sum(axis=1, keepdims=True)\n"
     ]
    },
    {
     "name": "stdout",
     "output_type": "stream",
     "text": [
      "zdt5\n",
      "zdt6\n"
     ]
    }
   ],
   "source": [
    "get_solutions(zdt_problems,zdt_vars, zdt_obj, 20, 250, 'nsgaii', \n",
    "              {'pop_size':100, 'repair': Simplex_Repair()}, \n",
    "              name_oprt='baseline')"
   ]
  },
  {
   "cell_type": "markdown",
   "metadata": {},
   "source": [
    "## Soluciones para AGE-EMOA simple"
   ]
  },
  {
   "cell_type": "code",
   "execution_count": 11,
   "metadata": {},
   "outputs": [
    {
     "name": "stdout",
     "output_type": "stream",
     "text": [
      "dtlz1\n"
     ]
    },
    {
     "name": "stderr",
     "output_type": "stream",
     "text": [
      "c:\\Users\\yeudi\\AppData\\Local\\Programs\\Python\\Python310\\lib\\site-packages\\pymoo\\algorithms\\moo\\age.py:132: RuntimeWarning: divide by zero encountered in divide\n",
      "  front = front / normalization\n",
      "c:\\Users\\yeudi\\AppData\\Local\\Programs\\Python\\Python310\\lib\\site-packages\\pymoo\\algorithms\\moo\\age.py:132: RuntimeWarning: invalid value encountered in divide\n",
      "  front = front / normalization\n",
      "c:\\Users\\yeudi\\AppData\\Local\\Programs\\Python\\Python310\\lib\\site-packages\\pymoo\\algorithms\\moo\\age.py:132: RuntimeWarning: divide by zero encountered in divide\n",
      "  front = front / normalization\n",
      "c:\\Users\\yeudi\\AppData\\Local\\Programs\\Python\\Python310\\lib\\site-packages\\pymoo\\algorithms\\moo\\age.py:132: RuntimeWarning: invalid value encountered in divide\n",
      "  front = front / normalization\n"
     ]
    },
    {
     "name": "stdout",
     "output_type": "stream",
     "text": [
      "dtlz2\n",
      "dtlz3\n",
      "dtlz4\n"
     ]
    },
    {
     "name": "stderr",
     "output_type": "stream",
     "text": [
      "c:\\Users\\yeudi\\AppData\\Local\\Programs\\Python\\Python310\\lib\\site-packages\\pymoo\\algorithms\\moo\\age.py:202: RuntimeWarning: divide by zero encountered in double_scalars\n",
      "  p = np.log(n) / np.log(1.0 / np.mean(front[index, :]))\n",
      "c:\\Users\\yeudi\\AppData\\Local\\Programs\\Python\\Python310\\lib\\site-packages\\pymoo\\algorithms\\moo\\age.py:170: RuntimeWarning: invalid value encountered in divide\n",
      "  distances = self.pairwise_distances(front, p) / nn[:, None]\n",
      "c:\\Users\\yeudi\\AppData\\Local\\Programs\\Python\\Python310\\lib\\site-packages\\pymoo\\algorithms\\moo\\age.py:202: RuntimeWarning: invalid value encountered in log\n",
      "  p = np.log(n) / np.log(1.0 / np.mean(front[index, :]))\n"
     ]
    },
    {
     "name": "stdout",
     "output_type": "stream",
     "text": [
      "dtlz5\n",
      "dtlz6\n",
      "dtlz7\n"
     ]
    }
   ],
   "source": [
    "get_solutions(dtlz_problems, dtlz_vars, dtlz_obj, 20, 250, 'age-moea', \n",
    "              {'pop_size':100, 'repair': Simplex_Repair()}, \n",
    "              name_oprt='baseline')"
   ]
  },
  {
   "cell_type": "code",
   "execution_count": 13,
   "metadata": {},
   "outputs": [
    {
     "name": "stdout",
     "output_type": "stream",
     "text": [
      "wfg1\n",
      "wfg2\n",
      "wfg3\n",
      "wfg4\n",
      "wfg5\n",
      "wfg6\n",
      "wfg7\n",
      "wfg8\n",
      "wfg9\n"
     ]
    }
   ],
   "source": [
    "get_solutions(wfg_problems, wfg_vars, wfg_obj, 20, 250, 'age-moea', \n",
    "              {'pop_size':100, 'repair': Simplex_Repair()}, \n",
    "              name_oprt='baseline')"
   ]
  },
  {
   "cell_type": "code",
   "execution_count": 14,
   "metadata": {},
   "outputs": [
    {
     "name": "stdout",
     "output_type": "stream",
     "text": [
      "zdt1\n",
      "zdt2\n",
      "zdt3\n",
      "zdt4\n"
     ]
    },
    {
     "name": "stderr",
     "output_type": "stream",
     "text": [
      "C:\\Users\\yeudi\\AppData\\Local\\Temp\\ipykernel_9636\\1848661293.py:34: RuntimeWarning: invalid value encountered in divide\n",
      "  return X / X.sum(axis=1, keepdims=True)\n"
     ]
    },
    {
     "name": "stdout",
     "output_type": "stream",
     "text": [
      "zdt5\n",
      "zdt6\n"
     ]
    }
   ],
   "source": [
    "get_solutions(zdt_problems,zdt_vars, zdt_obj, 20, 250, 'age-moea', \n",
    "              {'pop_size':100, 'repair': Simplex_Repair()}, \n",
    "              name_oprt='baseline')"
   ]
  },
  {
   "cell_type": "markdown",
   "metadata": {},
   "source": [
    "## Nuevos operadores para sampling"
   ]
  },
  {
   "cell_type": "code",
   "execution_count": 7,
   "metadata": {},
   "outputs": [],
   "source": [
    "from pymoo.core.sampling import Sampling\n",
    "from pymoo.util.ref_dirs import get_reference_directions\n",
    "class Sampling_Energy(Sampling):\n",
    "    def _do(self, problem, n_samples, **kwargs):\n",
    "        #100 individuos (a lo más 2000)\n",
    "        #problem.n_var la cantidad de activos. \n",
    "        X = get_reference_directions(\"energy\", problem.n_var, n_samples)\n",
    "        return X \n",
    "    \n",
    "class Sampling_Uniform(Sampling): \n",
    "    def _do(self, problem, n_samples, **kwargs): \n",
    "        X = self.n_uniform_sampling_simplex(problem.n_var, n_samples)\n",
    "        return X\n",
    "    \n",
    "    def uniform_sampling_simplex(self, n_vars):\n",
    "        sum = 0\n",
    "        x = np.zeros(n_vars)\n",
    "        for i in range(n_vars-1):\n",
    "            u = np.random.uniform()\n",
    "            #print(u)\n",
    "            x[i] = (1-sum)*(1- np.power(u, 1/(n_vars-1-i)))\n",
    "            sum= sum+x[i]\n",
    "        x[-1]= 1-sum\n",
    "        return x\n",
    "\n",
    "    def n_uniform_sampling_simplex(self, n_vars, n_samples):\n",
    "        X = np.empty((n_samples, n_vars))\n",
    "        for i in range(n_samples):\n",
    "            X[i] = self.uniform_sampling_simplex(n_vars)\n",
    "        return X"
   ]
  },
  {
   "cell_type": "markdown",
   "metadata": {},
   "source": [
    "### Soluciones NSGA-II Energy Sampling"
   ]
  },
  {
   "cell_type": "code",
   "execution_count": 24,
   "metadata": {},
   "outputs": [
    {
     "name": "stdout",
     "output_type": "stream",
     "text": [
      "dtlz1\n",
      "dtlz2\n",
      "dtlz3\n",
      "dtlz4\n",
      "dtlz5\n",
      "dtlz6\n",
      "dtlz7\n"
     ]
    }
   ],
   "source": [
    "get_solutions(dtlz_problems, dtlz_vars, dtlz_obj, 20, 250, 'nsgaii', \n",
    "              {'pop_size':100,'sampling': Sampling_Energy(),'repair': Simplex_Repair()}, \n",
    "              name_oprt='samp-energy')"
   ]
  },
  {
   "cell_type": "code",
   "execution_count": 25,
   "metadata": {},
   "outputs": [
    {
     "name": "stdout",
     "output_type": "stream",
     "text": [
      "wfg1\n",
      "wfg2\n",
      "wfg3\n",
      "wfg4\n",
      "wfg5\n",
      "wfg6\n",
      "wfg7\n",
      "wfg8\n",
      "wfg9\n"
     ]
    }
   ],
   "source": [
    "get_solutions(wfg_problems, wfg_vars, wfg_obj, 20, 250, 'nsgaii', \n",
    "              {'pop_size':100,'sampling': Sampling_Energy(),'repair': Simplex_Repair()}, \n",
    "              name_oprt='samp-energy')"
   ]
  },
  {
   "cell_type": "code",
   "execution_count": 26,
   "metadata": {},
   "outputs": [
    {
     "name": "stdout",
     "output_type": "stream",
     "text": [
      "zdt1\n",
      "zdt2\n",
      "zdt3\n",
      "zdt4\n"
     ]
    },
    {
     "name": "stderr",
     "output_type": "stream",
     "text": [
      "C:\\Users\\yeudi\\AppData\\Local\\Temp\\ipykernel_14200\\1848661293.py:34: RuntimeWarning: invalid value encountered in divide\n",
      "  return X / X.sum(axis=1, keepdims=True)\n"
     ]
    },
    {
     "name": "stdout",
     "output_type": "stream",
     "text": [
      "zdt5\n",
      "zdt6\n"
     ]
    }
   ],
   "source": [
    "get_solutions(zdt_problems, zdt_vars, zdt_obj, 20, 250, 'nsgaii', \n",
    "              {'pop_size':100,'sampling': Sampling_Energy(),'repair': Simplex_Repair()}, \n",
    "              name_oprt='samp-energy')"
   ]
  },
  {
   "cell_type": "markdown",
   "metadata": {},
   "source": [
    "### Soluciones AGE-EMOA Energy Sampling"
   ]
  },
  {
   "cell_type": "code",
   "execution_count": 11,
   "metadata": {},
   "outputs": [
    {
     "name": "stdout",
     "output_type": "stream",
     "text": [
      "dtlz1\n",
      "dtlz2\n",
      "dtlz3\n",
      "dtlz4\n",
      "dtlz5\n",
      "dtlz6\n",
      "dtlz7\n"
     ]
    }
   ],
   "source": [
    "get_solutions(dtlz_problems, dtlz_vars, dtlz_obj, 20, 250, 'age-moea', \n",
    "              {'pop_size':100,'sampling': Sampling_Energy(),'repair': Simplex_Repair()}, \n",
    "              name_oprt='samp-energy')"
   ]
  },
  {
   "cell_type": "code",
   "execution_count": 12,
   "metadata": {},
   "outputs": [
    {
     "name": "stdout",
     "output_type": "stream",
     "text": [
      "wfg1\n",
      "wfg2\n",
      "wfg3\n",
      "wfg4\n",
      "wfg5\n",
      "wfg6\n",
      "wfg7\n",
      "wfg8\n",
      "wfg9\n"
     ]
    }
   ],
   "source": [
    "get_solutions(wfg_problems, wfg_vars, wfg_obj, 20, 250, 'age-moea', \n",
    "              {'pop_size':100,'sampling': Sampling_Energy(),'repair': Simplex_Repair()}, \n",
    "              name_oprt='samp-energy')"
   ]
  },
  {
   "cell_type": "code",
   "execution_count": 19,
   "metadata": {},
   "outputs": [
    {
     "name": "stdout",
     "output_type": "stream",
     "text": [
      "zdt1\n"
     ]
    },
    {
     "name": "stderr",
     "output_type": "stream",
     "text": [
      "c:\\Users\\yeudi\\AppData\\Local\\Programs\\Python\\Python310\\lib\\site-packages\\pymoo\\algorithms\\moo\\age.py:212: NumbaDeprecationWarning: \u001b[1mThe 'nopython' keyword argument was not supplied to the 'numba.jit' decorator. The implicit default value for this argument is currently False, but it will be changed to True in Numba 0.59.0. See https://numba.readthedocs.io/en/stable/reference/deprecation.html#deprecation-of-object-mode-fall-back-behaviour-when-using-jit for details.\u001b[0m\n",
      "  @jit(fastmath=True)\n",
      "c:\\Users\\yeudi\\AppData\\Local\\Programs\\Python\\Python310\\lib\\site-packages\\pymoo\\algorithms\\moo\\age.py:222: NumbaDeprecationWarning: \u001b[1mThe 'nopython' keyword argument was not supplied to the 'numba.jit' decorator. The implicit default value for this argument is currently False, but it will be changed to True in Numba 0.59.0. See https://numba.readthedocs.io/en/stable/reference/deprecation.html#deprecation-of-object-mode-fall-back-behaviour-when-using-jit for details.\u001b[0m\n",
      "  @jit(fastmath=True)\n",
      "c:\\Users\\yeudi\\AppData\\Local\\Programs\\Python\\Python310\\lib\\site-packages\\pymoo\\algorithms\\moo\\age.py:257: NumbaDeprecationWarning: \u001b[1mThe 'nopython' keyword argument was not supplied to the 'numba.jit' decorator. The implicit default value for this argument is currently False, but it will be changed to True in Numba 0.59.0. See https://numba.readthedocs.io/en/stable/reference/deprecation.html#deprecation-of-object-mode-fall-back-behaviour-when-using-jit for details.\u001b[0m\n",
      "  @jit(fastmath=True)\n"
     ]
    },
    {
     "name": "stdout",
     "output_type": "stream",
     "text": [
      "zdt2\n",
      "zdt3\n",
      "zdt4\n"
     ]
    },
    {
     "name": "stderr",
     "output_type": "stream",
     "text": [
      "C:\\Users\\yeudi\\AppData\\Local\\Temp\\ipykernel_14200\\1848661293.py:34: RuntimeWarning: invalid value encountered in divide\n",
      "  return X / X.sum(axis=1, keepdims=True)\n"
     ]
    },
    {
     "name": "stdout",
     "output_type": "stream",
     "text": [
      "zdt5\n",
      "zdt6\n"
     ]
    }
   ],
   "source": [
    "get_solutions(zdt_problems, zdt_vars, zdt_obj, 20, 250, 'age-moea', \n",
    "              {'pop_size':100,'sampling': Sampling_Energy(),'repair': Simplex_Repair()}, \n",
    "              name_oprt='samp-energy')"
   ]
  },
  {
   "cell_type": "markdown",
   "metadata": {},
   "source": [
    "## Soluciones NSGA-II Uniform Random Sampling "
   ]
  },
  {
   "cell_type": "code",
   "execution_count": 27,
   "metadata": {},
   "outputs": [
    {
     "name": "stdout",
     "output_type": "stream",
     "text": [
      "dtlz1\n",
      "dtlz2\n",
      "dtlz3\n",
      "dtlz4\n",
      "dtlz5\n",
      "dtlz6\n",
      "dtlz7\n"
     ]
    }
   ],
   "source": [
    "get_solutions(dtlz_problems, dtlz_vars, dtlz_obj, 20, 250, 'nsgaii', \n",
    "              {'pop_size':100,'sampling': Sampling_Uniform(),'repair': Simplex_Repair()}, \n",
    "              name_oprt='samp-uniform')"
   ]
  },
  {
   "cell_type": "code",
   "execution_count": 28,
   "metadata": {},
   "outputs": [
    {
     "name": "stdout",
     "output_type": "stream",
     "text": [
      "wfg1\n",
      "wfg2\n",
      "wfg3\n",
      "wfg4\n",
      "wfg5\n",
      "wfg6\n",
      "wfg7\n",
      "wfg8\n",
      "wfg9\n"
     ]
    }
   ],
   "source": [
    "get_solutions(wfg_problems, wfg_vars, wfg_obj, 20, 250, 'nsgaii', \n",
    "              {'pop_size':100,'sampling': Sampling_Uniform(),'repair': Simplex_Repair()}, \n",
    "              name_oprt='samp-uniform')"
   ]
  },
  {
   "cell_type": "code",
   "execution_count": 29,
   "metadata": {},
   "outputs": [
    {
     "name": "stdout",
     "output_type": "stream",
     "text": [
      "zdt1\n",
      "zdt2\n",
      "zdt3\n",
      "zdt4\n"
     ]
    },
    {
     "name": "stderr",
     "output_type": "stream",
     "text": [
      "C:\\Users\\yeudi\\AppData\\Local\\Temp\\ipykernel_14200\\1848661293.py:34: RuntimeWarning: invalid value encountered in divide\n",
      "  return X / X.sum(axis=1, keepdims=True)\n"
     ]
    },
    {
     "name": "stdout",
     "output_type": "stream",
     "text": [
      "zdt5\n",
      "zdt6\n"
     ]
    }
   ],
   "source": [
    "get_solutions(zdt_problems, zdt_vars, zdt_obj, 20, 250, 'nsgaii', \n",
    "              {'pop_size':100,'sampling': Sampling_Uniform(),'repair': Simplex_Repair()}, \n",
    "              name_oprt='samp-uniform')"
   ]
  },
  {
   "cell_type": "markdown",
   "metadata": {},
   "source": [
    "## Soluciones AGE-EMOA Uniform Random Sampling"
   ]
  },
  {
   "cell_type": "code",
   "execution_count": 8,
   "metadata": {},
   "outputs": [
    {
     "name": "stdout",
     "output_type": "stream",
     "text": [
      "dtlz1\n"
     ]
    },
    {
     "name": "stderr",
     "output_type": "stream",
     "text": [
      "c:\\Users\\yeudi\\AppData\\Local\\Programs\\Python\\Python310\\lib\\site-packages\\pymoo\\algorithms\\moo\\age.py:212: NumbaDeprecationWarning: \u001b[1mThe 'nopython' keyword argument was not supplied to the 'numba.jit' decorator. The implicit default value for this argument is currently False, but it will be changed to True in Numba 0.59.0. See https://numba.readthedocs.io/en/stable/reference/deprecation.html#deprecation-of-object-mode-fall-back-behaviour-when-using-jit for details.\u001b[0m\n",
      "  @jit(fastmath=True)\n",
      "c:\\Users\\yeudi\\AppData\\Local\\Programs\\Python\\Python310\\lib\\site-packages\\pymoo\\algorithms\\moo\\age.py:222: NumbaDeprecationWarning: \u001b[1mThe 'nopython' keyword argument was not supplied to the 'numba.jit' decorator. The implicit default value for this argument is currently False, but it will be changed to True in Numba 0.59.0. See https://numba.readthedocs.io/en/stable/reference/deprecation.html#deprecation-of-object-mode-fall-back-behaviour-when-using-jit for details.\u001b[0m\n",
      "  @jit(fastmath=True)\n",
      "c:\\Users\\yeudi\\AppData\\Local\\Programs\\Python\\Python310\\lib\\site-packages\\pymoo\\algorithms\\moo\\age.py:257: NumbaDeprecationWarning: \u001b[1mThe 'nopython' keyword argument was not supplied to the 'numba.jit' decorator. The implicit default value for this argument is currently False, but it will be changed to True in Numba 0.59.0. See https://numba.readthedocs.io/en/stable/reference/deprecation.html#deprecation-of-object-mode-fall-back-behaviour-when-using-jit for details.\u001b[0m\n",
      "  @jit(fastmath=True)\n",
      "c:\\Users\\yeudi\\AppData\\Local\\Programs\\Python\\Python310\\lib\\site-packages\\pymoo\\algorithms\\moo\\age.py:132: RuntimeWarning: divide by zero encountered in divide\n",
      "  front = front / normalization\n",
      "c:\\Users\\yeudi\\AppData\\Local\\Programs\\Python\\Python310\\lib\\site-packages\\pymoo\\algorithms\\moo\\age.py:132: RuntimeWarning: invalid value encountered in divide\n",
      "  front = front / normalization\n"
     ]
    },
    {
     "name": "stdout",
     "output_type": "stream",
     "text": [
      "dtlz2\n",
      "dtlz3\n",
      "dtlz4\n"
     ]
    },
    {
     "name": "stderr",
     "output_type": "stream",
     "text": [
      "c:\\Users\\yeudi\\AppData\\Local\\Programs\\Python\\Python310\\lib\\site-packages\\pymoo\\algorithms\\moo\\age.py:202: RuntimeWarning: divide by zero encountered in double_scalars\n",
      "  p = np.log(n) / np.log(1.0 / np.mean(front[index, :]))\n",
      "c:\\Users\\yeudi\\AppData\\Local\\Programs\\Python\\Python310\\lib\\site-packages\\pymoo\\algorithms\\moo\\age.py:202: RuntimeWarning: invalid value encountered in log\n",
      "  p = np.log(n) / np.log(1.0 / np.mean(front[index, :]))\n",
      "c:\\Users\\yeudi\\AppData\\Local\\Programs\\Python\\Python310\\lib\\site-packages\\pymoo\\algorithms\\moo\\age.py:170: RuntimeWarning: invalid value encountered in divide\n",
      "  distances = self.pairwise_distances(front, p) / nn[:, None]\n"
     ]
    },
    {
     "name": "stdout",
     "output_type": "stream",
     "text": [
      "dtlz5\n",
      "dtlz6\n",
      "dtlz7\n"
     ]
    }
   ],
   "source": [
    "get_solutions(dtlz_problems, dtlz_vars, dtlz_obj, 20, 250, 'age-moea', \n",
    "              {'pop_size':100,'sampling': Sampling_Uniform(),'repair': Simplex_Repair()}, \n",
    "              name_oprt='samp-uniform')"
   ]
  },
  {
   "cell_type": "code",
   "execution_count": 9,
   "metadata": {},
   "outputs": [
    {
     "name": "stdout",
     "output_type": "stream",
     "text": [
      "wfg1\n",
      "wfg2\n",
      "wfg3\n",
      "wfg4\n",
      "wfg5\n",
      "wfg6\n",
      "wfg7\n",
      "wfg8\n",
      "wfg9\n"
     ]
    }
   ],
   "source": [
    "get_solutions(wfg_problems, wfg_vars, wfg_obj, 20, 250, 'age-moea', \n",
    "              {'pop_size':100,'sampling': Sampling_Uniform(),'repair': Simplex_Repair()}, \n",
    "              name_oprt='samp-uniform')"
   ]
  },
  {
   "cell_type": "code",
   "execution_count": 10,
   "metadata": {},
   "outputs": [
    {
     "name": "stdout",
     "output_type": "stream",
     "text": [
      "zdt1\n",
      "zdt2\n",
      "zdt3\n",
      "zdt4\n"
     ]
    },
    {
     "name": "stderr",
     "output_type": "stream",
     "text": [
      "C:\\Users\\yeudi\\AppData\\Local\\Temp\\ipykernel_10256\\1848661293.py:34: RuntimeWarning: invalid value encountered in divide\n",
      "  return X / X.sum(axis=1, keepdims=True)\n"
     ]
    },
    {
     "name": "stdout",
     "output_type": "stream",
     "text": [
      "zdt5\n",
      "zdt6\n"
     ]
    }
   ],
   "source": [
    "get_solutions(zdt_problems, zdt_vars, zdt_obj, 20, 250, 'age-moea', \n",
    "              {'pop_size':100,'sampling': Sampling_Uniform(),'repair': Simplex_Repair()}, \n",
    "              name_oprt='samp-uniform')"
   ]
  },
  {
   "cell_type": "markdown",
   "metadata": {},
   "source": [
    "## Nuevos operadores para mutation"
   ]
  },
  {
   "cell_type": "code",
   "execution_count": 11,
   "metadata": {},
   "outputs": [],
   "source": [
    "from pymoo.core.mutation import Mutation\n",
    "from pymoo.operators.repair.bounds_repair import repair_random_init\n",
    "from pymoo.core.variable import Real, get\n",
    "\n",
    "def mut_dirichlet(X, xl, xu, prob):\n",
    "    n, n_var = X.shape\n",
    "    assert len(prob) == n\n",
    "    Xp = X[:]\n",
    "    mut = np.random.rand(n) < prob\n",
    "    if np.sum(mut)>0:\n",
    "      #print(X[mut])\n",
    "      Xp[mut] = np.apply_along_axis( lambda alphas: np.random.dirichlet(alphas), 1, X[mut]+0.01)\n",
    "    Xp = repair_random_init(Xp, X, xl, xu)\n",
    "    return Xp\n",
    "\n",
    "class Probability_Mutation(Mutation):\n",
    "    def __init__(self, distribution_fun,  **kwargs):\n",
    "        self.distribution_fun = distribution_fun\n",
    "        super().__init__(**kwargs)\n",
    "\n",
    "    def _do(self, problem, X, **kwargs):\n",
    "        X = X.astype(float)\n",
    "        prob_var = self.get_prob_var(problem, size=len(X))\n",
    "        Xp = self.distribution_fun(X, problem.xl, problem.xu, prob_var)\n",
    "        return Xp"
   ]
  },
  {
   "cell_type": "markdown",
   "metadata": {},
   "source": [
    "### Soluciones NSGA-II Dirichlet mutation"
   ]
  },
  {
   "cell_type": "code",
   "execution_count": 12,
   "metadata": {},
   "outputs": [
    {
     "name": "stdout",
     "output_type": "stream",
     "text": [
      "dtlz1\n",
      "dtlz2\n",
      "dtlz3\n",
      "dtlz4\n",
      "dtlz5\n",
      "dtlz6\n",
      "dtlz7\n"
     ]
    }
   ],
   "source": [
    "get_solutions(dtlz_problems, dtlz_vars, dtlz_obj, 20, 250, 'nsgaii', \n",
    "              {'pop_size':100,'mutation': Probability_Mutation(mut_dirichlet),'repair': Simplex_Repair()}, \n",
    "              name_oprt='mut-dirichlet')"
   ]
  },
  {
   "cell_type": "code",
   "execution_count": 13,
   "metadata": {},
   "outputs": [
    {
     "name": "stdout",
     "output_type": "stream",
     "text": [
      "wfg1\n",
      "wfg2\n",
      "wfg3\n",
      "wfg4\n",
      "wfg5\n",
      "wfg6\n",
      "wfg7\n",
      "wfg8\n",
      "wfg9\n"
     ]
    }
   ],
   "source": [
    "get_solutions(wfg_problems, wfg_vars, wfg_obj, 20, 250, 'nsgaii', \n",
    "              {'pop_size':100,'mutation': Probability_Mutation(mut_dirichlet),'repair': Simplex_Repair()}, \n",
    "              name_oprt='mut-dirichlet')"
   ]
  },
  {
   "cell_type": "code",
   "execution_count": 16,
   "metadata": {},
   "outputs": [
    {
     "name": "stdout",
     "output_type": "stream",
     "text": [
      "zdt1\n",
      "zdt2\n",
      "zdt3\n",
      "zdt4\n"
     ]
    },
    {
     "ename": "ValueError",
     "evalue": "alpha <= 0",
     "output_type": "error",
     "traceback": [
      "\u001b[1;31m---------------------------------------------------------------------------\u001b[0m",
      "\u001b[1;31mValueError\u001b[0m                                Traceback (most recent call last)",
      "Cell \u001b[1;32mIn[16], line 1\u001b[0m\n\u001b[1;32m----> 1\u001b[0m get_solutions(zdt_problems, zdt_vars, zdt_obj, \u001b[39m20\u001b[39;49m, \u001b[39m250\u001b[39;49m, \u001b[39m'\u001b[39;49m\u001b[39mnsgaii\u001b[39;49m\u001b[39m'\u001b[39;49m, \n\u001b[0;32m      2\u001b[0m               {\u001b[39m'\u001b[39;49m\u001b[39mpop_size\u001b[39;49m\u001b[39m'\u001b[39;49m:\u001b[39m100\u001b[39;49m,\u001b[39m'\u001b[39;49m\u001b[39mmutation\u001b[39;49m\u001b[39m'\u001b[39;49m: Probability_Mutation(mut_dirichlet),\u001b[39m'\u001b[39;49m\u001b[39mrepair\u001b[39;49m\u001b[39m'\u001b[39;49m: Simplex_Repair()}, \n\u001b[0;32m      3\u001b[0m               name_oprt\u001b[39m=\u001b[39;49m\u001b[39m'\u001b[39;49m\u001b[39mmut-dirichlet\u001b[39;49m\u001b[39m'\u001b[39;49m)\n",
      "Cell \u001b[1;32mIn[5], line 8\u001b[0m, in \u001b[0;36mget_solutions\u001b[1;34m(problems, vars, objs, n_ejec, n_gen, name_algorithm, kwargs_algorithm, name_oprt)\u001b[0m\n\u001b[0;32m      4\u001b[0m     \u001b[39mprint\u001b[39m(name_problem)\n\u001b[0;32m      5\u001b[0m     sols \u001b[39m=\u001b[39m Generator_Solutions(n_ejec, n_gen, name_problem, name_algorithm, \n\u001b[0;32m      6\u001b[0m                                {\u001b[39m'\u001b[39m\u001b[39mn_var\u001b[39m\u001b[39m'\u001b[39m: \u001b[39mvars\u001b[39m[i], \u001b[39m'\u001b[39m\u001b[39mn_obj\u001b[39m\u001b[39m'\u001b[39m: objs[i]}, \n\u001b[0;32m      7\u001b[0m                                kwargs_algorithm)\n\u001b[1;32m----> 8\u001b[0m     sols\u001b[39m.\u001b[39;49mget_extensive_population(save\u001b[39m=\u001b[39;49m\u001b[39mTrue\u001b[39;49;00m, name_files\u001b[39m=\u001b[39;49m\u001b[39m'\u001b[39;49m\u001b[39mSolutions/\u001b[39;49m\u001b[39m'\u001b[39;49m\u001b[39m+\u001b[39;49mname_algorithm\u001b[39m+\u001b[39;49m\u001b[39m'\u001b[39;49m\u001b[39m_\u001b[39;49m\u001b[39m'\u001b[39;49m\u001b[39m+\u001b[39;49mname_oprt\u001b[39m+\u001b[39;49m\u001b[39m'\u001b[39;49m\u001b[39m_\u001b[39;49m\u001b[39m'\u001b[39;49m\u001b[39m+\u001b[39;49mname_problem)\n\u001b[0;32m      9\u001b[0m \u001b[39mreturn\u001b[39;00m\n",
      "Cell \u001b[1;32mIn[3], line 26\u001b[0m, in \u001b[0;36mGenerator_Solutions.get_extensive_population\u001b[1;34m(self, save, name_files)\u001b[0m\n\u001b[0;32m     24\u001b[0m \u001b[39mdef\u001b[39;00m \u001b[39mget_extensive_population\u001b[39m(\u001b[39mself\u001b[39m, save\u001b[39m=\u001b[39m\u001b[39mTrue\u001b[39;00m, name_files\u001b[39m=\u001b[39m\u001b[39m'\u001b[39m\u001b[39m'\u001b[39m): \n\u001b[0;32m     25\u001b[0m     \u001b[39mfor\u001b[39;00m i \u001b[39min\u001b[39;00m \u001b[39mrange\u001b[39m(\u001b[39mself\u001b[39m\u001b[39m.\u001b[39mn_ejec): \n\u001b[1;32m---> 26\u001b[0m         res \u001b[39m=\u001b[39m minimize(problem \u001b[39m=\u001b[39;49m \u001b[39mself\u001b[39;49m\u001b[39m.\u001b[39;49mproblem,\n\u001b[0;32m     27\u001b[0m                        algorithm \u001b[39m=\u001b[39;49m \u001b[39mself\u001b[39;49m\u001b[39m.\u001b[39;49malgorithm,\n\u001b[0;32m     28\u001b[0m                        termination \u001b[39m=\u001b[39;49m \u001b[39mself\u001b[39;49m\u001b[39m.\u001b[39;49mtermination, \n\u001b[0;32m     29\u001b[0m                        save_history\u001b[39m=\u001b[39;49m\u001b[39mTrue\u001b[39;49;00m)\n\u001b[0;32m     30\u001b[0m         \u001b[39mfor\u001b[39;00m j, algo \u001b[39min\u001b[39;00m \u001b[39menumerate\u001b[39m(res\u001b[39m.\u001b[39mhistory): \n\u001b[0;32m     31\u001b[0m             \u001b[39mself\u001b[39m\u001b[39m.\u001b[39mMega_X[i, j] \u001b[39m=\u001b[39m algo\u001b[39m.\u001b[39moff\u001b[39m.\u001b[39mget(\u001b[39m'\u001b[39m\u001b[39mX\u001b[39m\u001b[39m'\u001b[39m)\n",
      "File \u001b[1;32mc:\\Users\\yeudi\\AppData\\Local\\Programs\\Python\\Python310\\lib\\site-packages\\pymoo\\optimize.py:67\u001b[0m, in \u001b[0;36mminimize\u001b[1;34m(problem, algorithm, termination, copy_algorithm, copy_termination, **kwargs)\u001b[0m\n\u001b[0;32m     64\u001b[0m     algorithm\u001b[39m.\u001b[39msetup(problem, \u001b[39m*\u001b[39m\u001b[39m*\u001b[39mkwargs)\n\u001b[0;32m     66\u001b[0m \u001b[39m# actually execute the algorithm\u001b[39;00m\n\u001b[1;32m---> 67\u001b[0m res \u001b[39m=\u001b[39m algorithm\u001b[39m.\u001b[39;49mrun()\n\u001b[0;32m     69\u001b[0m \u001b[39m# store the deep copied algorithm in the result object\u001b[39;00m\n\u001b[0;32m     70\u001b[0m res\u001b[39m.\u001b[39malgorithm \u001b[39m=\u001b[39m algorithm\n",
      "File \u001b[1;32mc:\\Users\\yeudi\\AppData\\Local\\Programs\\Python\\Python310\\lib\\site-packages\\pymoo\\core\\algorithm.py:141\u001b[0m, in \u001b[0;36mAlgorithm.run\u001b[1;34m(self)\u001b[0m\n\u001b[0;32m    139\u001b[0m \u001b[39mdef\u001b[39;00m \u001b[39mrun\u001b[39m(\u001b[39mself\u001b[39m):\n\u001b[0;32m    140\u001b[0m     \u001b[39mwhile\u001b[39;00m \u001b[39mself\u001b[39m\u001b[39m.\u001b[39mhas_next():\n\u001b[1;32m--> 141\u001b[0m         \u001b[39mself\u001b[39;49m\u001b[39m.\u001b[39;49mnext()\n\u001b[0;32m    142\u001b[0m     \u001b[39mreturn\u001b[39;00m \u001b[39mself\u001b[39m\u001b[39m.\u001b[39mresult()\n",
      "File \u001b[1;32mc:\\Users\\yeudi\\AppData\\Local\\Programs\\Python\\Python310\\lib\\site-packages\\pymoo\\core\\algorithm.py:157\u001b[0m, in \u001b[0;36mAlgorithm.next\u001b[1;34m(self)\u001b[0m\n\u001b[0;32m    154\u001b[0m \u001b[39mdef\u001b[39;00m \u001b[39mnext\u001b[39m(\u001b[39mself\u001b[39m):\n\u001b[0;32m    155\u001b[0m \n\u001b[0;32m    156\u001b[0m     \u001b[39m# get the infill solutions\u001b[39;00m\n\u001b[1;32m--> 157\u001b[0m     infills \u001b[39m=\u001b[39m \u001b[39mself\u001b[39;49m\u001b[39m.\u001b[39;49minfill()\n\u001b[0;32m    159\u001b[0m     \u001b[39m# call the advance with them after evaluation\u001b[39;00m\n\u001b[0;32m    160\u001b[0m     \u001b[39mif\u001b[39;00m infills \u001b[39mis\u001b[39;00m \u001b[39mnot\u001b[39;00m \u001b[39mNone\u001b[39;00m:\n",
      "File \u001b[1;32mc:\\Users\\yeudi\\AppData\\Local\\Programs\\Python\\Python310\\lib\\site-packages\\pymoo\\core\\algorithm.py:193\u001b[0m, in \u001b[0;36mAlgorithm.infill\u001b[1;34m(self)\u001b[0m\n\u001b[0;32m    189\u001b[0m     infills \u001b[39m=\u001b[39m \u001b[39mself\u001b[39m\u001b[39m.\u001b[39m_initialize_infill()\n\u001b[0;32m    191\u001b[0m \u001b[39melse\u001b[39;00m:\n\u001b[0;32m    192\u001b[0m     \u001b[39m# request the infill solutions if the algorithm has implemented it\u001b[39;00m\n\u001b[1;32m--> 193\u001b[0m     infills \u001b[39m=\u001b[39m \u001b[39mself\u001b[39;49m\u001b[39m.\u001b[39;49m_infill()\n\u001b[0;32m    195\u001b[0m \u001b[39m# set the current generation to the offsprings\u001b[39;00m\n\u001b[0;32m    196\u001b[0m \u001b[39mif\u001b[39;00m infills \u001b[39mis\u001b[39;00m \u001b[39mnot\u001b[39;00m \u001b[39mNone\u001b[39;00m:\n",
      "File \u001b[1;32mc:\\Users\\yeudi\\AppData\\Local\\Programs\\Python\\Python310\\lib\\site-packages\\pymoo\\algorithms\\base\\genetic.py:85\u001b[0m, in \u001b[0;36mGeneticAlgorithm._infill\u001b[1;34m(self)\u001b[0m\n\u001b[0;32m     82\u001b[0m \u001b[39mdef\u001b[39;00m \u001b[39m_infill\u001b[39m(\u001b[39mself\u001b[39m):\n\u001b[0;32m     83\u001b[0m \n\u001b[0;32m     84\u001b[0m     \u001b[39m# do the mating using the current population\u001b[39;00m\n\u001b[1;32m---> 85\u001b[0m     off \u001b[39m=\u001b[39m \u001b[39mself\u001b[39;49m\u001b[39m.\u001b[39;49mmating\u001b[39m.\u001b[39;49mdo(\u001b[39mself\u001b[39;49m\u001b[39m.\u001b[39;49mproblem, \u001b[39mself\u001b[39;49m\u001b[39m.\u001b[39;49mpop, \u001b[39mself\u001b[39;49m\u001b[39m.\u001b[39;49mn_offsprings, algorithm\u001b[39m=\u001b[39;49m\u001b[39mself\u001b[39;49m)\n\u001b[0;32m     87\u001b[0m     \u001b[39m# if the mating could not generate any new offspring (duplicate elimination might make that happen)\u001b[39;00m\n\u001b[0;32m     88\u001b[0m     \u001b[39mif\u001b[39;00m \u001b[39mlen\u001b[39m(off) \u001b[39m==\u001b[39m \u001b[39m0\u001b[39m:\n",
      "File \u001b[1;32mc:\\Users\\yeudi\\AppData\\Local\\Programs\\Python\\Python310\\lib\\site-packages\\pymoo\\core\\infill.py:38\u001b[0m, in \u001b[0;36mInfillCriterion.do\u001b[1;34m(self, problem, pop, n_offsprings, **kwargs)\u001b[0m\n\u001b[0;32m     35\u001b[0m n_remaining \u001b[39m=\u001b[39m n_offsprings \u001b[39m-\u001b[39m \u001b[39mlen\u001b[39m(off)\n\u001b[0;32m     37\u001b[0m \u001b[39m# do the mating\u001b[39;00m\n\u001b[1;32m---> 38\u001b[0m _off \u001b[39m=\u001b[39m \u001b[39mself\u001b[39m\u001b[39m.\u001b[39m_do(problem, pop, n_remaining, \u001b[39m*\u001b[39m\u001b[39m*\u001b[39mkwargs)\n\u001b[0;32m     40\u001b[0m \u001b[39m# repair the individuals if necessary - disabled if repair is NoRepair\u001b[39;00m\n\u001b[0;32m     41\u001b[0m _off \u001b[39m=\u001b[39m \u001b[39mself\u001b[39m\u001b[39m.\u001b[39mrepair(problem, _off, \u001b[39m*\u001b[39m\u001b[39m*\u001b[39mkwargs)\n",
      "File \u001b[1;32mc:\\Users\\yeudi\\AppData\\Local\\Programs\\Python\\Python310\\lib\\site-packages\\pymoo\\core\\mating.py:34\u001b[0m, in \u001b[0;36mMating._do\u001b[1;34m(self, problem, pop, n_offsprings, parents, **kwargs)\u001b[0m\n\u001b[0;32m     31\u001b[0m off \u001b[39m=\u001b[39m \u001b[39mself\u001b[39m\u001b[39m.\u001b[39mcrossover(problem, parents, \u001b[39m*\u001b[39m\u001b[39m*\u001b[39mkwargs)\n\u001b[0;32m     33\u001b[0m \u001b[39m# do the mutation on the offsprings created through crossover\u001b[39;00m\n\u001b[1;32m---> 34\u001b[0m off \u001b[39m=\u001b[39m \u001b[39mself\u001b[39m\u001b[39m.\u001b[39mmutation(problem, off, \u001b[39m*\u001b[39m\u001b[39m*\u001b[39mkwargs)\n\u001b[0;32m     36\u001b[0m \u001b[39mreturn\u001b[39;00m off\n",
      "File \u001b[1;32mc:\\Users\\yeudi\\AppData\\Local\\Programs\\Python\\Python310\\lib\\site-packages\\pymoo\\core\\operator.py:27\u001b[0m, in \u001b[0;36mOperator.__call__\u001b[1;34m(self, problem, elem, to_numpy, *args, **kwargs)\u001b[0m\n\u001b[0;32m     26\u001b[0m \u001b[39mdef\u001b[39;00m \u001b[39m__call__\u001b[39m(\u001b[39mself\u001b[39m, problem, elem, \u001b[39m*\u001b[39margs, to_numpy\u001b[39m=\u001b[39m\u001b[39mFalse\u001b[39;00m, \u001b[39m*\u001b[39m\u001b[39m*\u001b[39mkwargs):\n\u001b[1;32m---> 27\u001b[0m     out \u001b[39m=\u001b[39m \u001b[39mself\u001b[39m\u001b[39m.\u001b[39mdo(problem, elem, \u001b[39m*\u001b[39margs, \u001b[39m*\u001b[39m\u001b[39m*\u001b[39mkwargs)\n\u001b[0;32m     29\u001b[0m     \u001b[39mif\u001b[39;00m \u001b[39mself\u001b[39m\u001b[39m.\u001b[39mvtype \u001b[39mis\u001b[39;00m \u001b[39mnot\u001b[39;00m \u001b[39mNone\u001b[39;00m:\n\u001b[0;32m     30\u001b[0m         \u001b[39mfor\u001b[39;00m ind \u001b[39min\u001b[39;00m out:\n",
      "File \u001b[1;32mc:\\Users\\yeudi\\AppData\\Local\\Programs\\Python\\Python310\\lib\\site-packages\\pymoo\\core\\mutation.py:28\u001b[0m, in \u001b[0;36mMutation.do\u001b[1;34m(self, problem, pop, inplace, **kwargs)\u001b[0m\n\u001b[0;32m     25\u001b[0m X \u001b[39m=\u001b[39m pop\u001b[39m.\u001b[39mget(\u001b[39m\"\u001b[39m\u001b[39mX\u001b[39m\u001b[39m\"\u001b[39m)\n\u001b[0;32m     27\u001b[0m \u001b[39m# retrieve the mutation variables\u001b[39;00m\n\u001b[1;32m---> 28\u001b[0m Xp \u001b[39m=\u001b[39m \u001b[39mself\u001b[39m\u001b[39m.\u001b[39m_do(problem, X, \u001b[39m*\u001b[39m\u001b[39m*\u001b[39mkwargs)\n\u001b[0;32m     30\u001b[0m \u001b[39m# the likelihood for a mutation on the individuals\u001b[39;00m\n\u001b[0;32m     31\u001b[0m prob \u001b[39m=\u001b[39m get(\u001b[39mself\u001b[39m\u001b[39m.\u001b[39mprob, size\u001b[39m=\u001b[39mn_mut)\n",
      "Cell \u001b[1;32mIn[13], line 23\u001b[0m, in \u001b[0;36mProbability_Mutation._do\u001b[1;34m(self, problem, X, **kwargs)\u001b[0m\n\u001b[0;32m     21\u001b[0m X \u001b[39m=\u001b[39m X\u001b[39m.\u001b[39mastype(\u001b[39mfloat\u001b[39m)\n\u001b[0;32m     22\u001b[0m prob_var \u001b[39m=\u001b[39m \u001b[39mself\u001b[39m\u001b[39m.\u001b[39mget_prob_var(problem, size\u001b[39m=\u001b[39m\u001b[39mlen\u001b[39m(X))\n\u001b[1;32m---> 23\u001b[0m Xp \u001b[39m=\u001b[39m \u001b[39mself\u001b[39;49m\u001b[39m.\u001b[39;49mdistribution_fun(X, problem\u001b[39m.\u001b[39;49mxl, problem\u001b[39m.\u001b[39;49mxu, prob_var)\n\u001b[0;32m     24\u001b[0m \u001b[39mreturn\u001b[39;00m Xp\n",
      "Cell \u001b[1;32mIn[13], line 11\u001b[0m, in \u001b[0;36mmut_dirichlet\u001b[1;34m(X, xl, xu, prob)\u001b[0m\n\u001b[0;32m      9\u001b[0m mut \u001b[39m=\u001b[39m np\u001b[39m.\u001b[39mrandom\u001b[39m.\u001b[39mrand(n) \u001b[39m<\u001b[39m prob\n\u001b[0;32m     10\u001b[0m \u001b[39mif\u001b[39;00m np\u001b[39m.\u001b[39msum(mut)\u001b[39m>\u001b[39m\u001b[39m0\u001b[39m: \n\u001b[1;32m---> 11\u001b[0m   Xp[mut] \u001b[39m=\u001b[39m np\u001b[39m.\u001b[39;49mapply_along_axis( \u001b[39mlambda\u001b[39;49;00m alphas: np\u001b[39m.\u001b[39;49mrandom\u001b[39m.\u001b[39;49mdirichlet(alphas), \u001b[39m1\u001b[39;49m, X[mut]\u001b[39m+\u001b[39;49m\u001b[39m0.01\u001b[39;49m) \n\u001b[0;32m     12\u001b[0m Xp \u001b[39m=\u001b[39m repair_random_init(Xp, X, xl, xu)\n\u001b[0;32m     13\u001b[0m \u001b[39mreturn\u001b[39;00m Xp\n",
      "File \u001b[1;32m<__array_function__ internals>:180\u001b[0m, in \u001b[0;36mapply_along_axis\u001b[1;34m(*args, **kwargs)\u001b[0m\n",
      "File \u001b[1;32mc:\\Users\\yeudi\\AppData\\Local\\Programs\\Python\\Python310\\lib\\site-packages\\numpy\\lib\\shape_base.py:402\u001b[0m, in \u001b[0;36mapply_along_axis\u001b[1;34m(func1d, axis, arr, *args, **kwargs)\u001b[0m\n\u001b[0;32m    400\u001b[0m buff[ind0] \u001b[39m=\u001b[39m res\n\u001b[0;32m    401\u001b[0m \u001b[39mfor\u001b[39;00m ind \u001b[39min\u001b[39;00m inds:\n\u001b[1;32m--> 402\u001b[0m     buff[ind] \u001b[39m=\u001b[39m asanyarray(func1d(inarr_view[ind], \u001b[39m*\u001b[39margs, \u001b[39m*\u001b[39m\u001b[39m*\u001b[39mkwargs))\n\u001b[0;32m    404\u001b[0m \u001b[39mif\u001b[39;00m \u001b[39mnot\u001b[39;00m \u001b[39misinstance\u001b[39m(res, matrix):\n\u001b[0;32m    405\u001b[0m     \u001b[39m# wrap the array, to preserve subclasses\u001b[39;00m\n\u001b[0;32m    406\u001b[0m     buff \u001b[39m=\u001b[39m res\u001b[39m.\u001b[39m__array_wrap__(buff)\n",
      "Cell \u001b[1;32mIn[13], line 11\u001b[0m, in \u001b[0;36mmut_dirichlet.<locals>.<lambda>\u001b[1;34m(alphas)\u001b[0m\n\u001b[0;32m      9\u001b[0m mut \u001b[39m=\u001b[39m np\u001b[39m.\u001b[39mrandom\u001b[39m.\u001b[39mrand(n) \u001b[39m<\u001b[39m prob\n\u001b[0;32m     10\u001b[0m \u001b[39mif\u001b[39;00m np\u001b[39m.\u001b[39msum(mut)\u001b[39m>\u001b[39m\u001b[39m0\u001b[39m: \n\u001b[1;32m---> 11\u001b[0m   Xp[mut] \u001b[39m=\u001b[39m np\u001b[39m.\u001b[39mapply_along_axis( \u001b[39mlambda\u001b[39;00m alphas: np\u001b[39m.\u001b[39;49mrandom\u001b[39m.\u001b[39;49mdirichlet(alphas), \u001b[39m1\u001b[39m, X[mut]\u001b[39m+\u001b[39m\u001b[39m0.01\u001b[39m) \n\u001b[0;32m     12\u001b[0m Xp \u001b[39m=\u001b[39m repair_random_init(Xp, X, xl, xu)\n\u001b[0;32m     13\u001b[0m \u001b[39mreturn\u001b[39;00m Xp\n",
      "File \u001b[1;32mmtrand.pyx:4428\u001b[0m, in \u001b[0;36mnumpy.random.mtrand.RandomState.dirichlet\u001b[1;34m()\u001b[0m\n",
      "\u001b[1;31mValueError\u001b[0m: alpha <= 0"
     ]
    }
   ],
   "source": [
    "get_solutions(zdt_problems, zdt_vars, zdt_obj, 20, 250, 'nsgaii', \n",
    "              {'pop_size':100,'mutation': Probability_Mutation(mut_dirichlet),'repair': Simplex_Repair()}, \n",
    "              name_oprt='mut-dirichlet')"
   ]
  },
  {
   "cell_type": "markdown",
   "metadata": {},
   "source": [
    "### Soluciones AGE-EMOA Dirichlet mutation"
   ]
  },
  {
   "cell_type": "code",
   "execution_count": 14,
   "metadata": {},
   "outputs": [
    {
     "name": "stdout",
     "output_type": "stream",
     "text": [
      "dtlz1\n"
     ]
    },
    {
     "name": "stderr",
     "output_type": "stream",
     "text": [
      "c:\\Users\\yeudi\\AppData\\Local\\Programs\\Python\\Python310\\lib\\site-packages\\pymoo\\algorithms\\moo\\age.py:132: RuntimeWarning: divide by zero encountered in divide\n",
      "  front = front / normalization\n",
      "c:\\Users\\yeudi\\AppData\\Local\\Programs\\Python\\Python310\\lib\\site-packages\\pymoo\\algorithms\\moo\\age.py:132: RuntimeWarning: invalid value encountered in divide\n",
      "  front = front / normalization\n"
     ]
    },
    {
     "name": "stdout",
     "output_type": "stream",
     "text": [
      "dtlz2\n",
      "dtlz3\n",
      "dtlz4\n"
     ]
    },
    {
     "name": "stderr",
     "output_type": "stream",
     "text": [
      "c:\\Users\\yeudi\\AppData\\Local\\Programs\\Python\\Python310\\lib\\site-packages\\pymoo\\algorithms\\moo\\age.py:202: RuntimeWarning: divide by zero encountered in double_scalars\n",
      "  p = np.log(n) / np.log(1.0 / np.mean(front[index, :]))\n",
      "c:\\Users\\yeudi\\AppData\\Local\\Programs\\Python\\Python310\\lib\\site-packages\\pymoo\\algorithms\\moo\\age.py:202: RuntimeWarning: invalid value encountered in log\n",
      "  p = np.log(n) / np.log(1.0 / np.mean(front[index, :]))\n"
     ]
    },
    {
     "name": "stdout",
     "output_type": "stream",
     "text": [
      "dtlz5\n",
      "dtlz6\n"
     ]
    },
    {
     "name": "stderr",
     "output_type": "stream",
     "text": [
      "C:\\Users\\yeudi\\AppData\\Local\\Temp\\ipykernel_14600\\1848661293.py:34: RuntimeWarning: invalid value encountered in divide\n",
      "  return X / X.sum(axis=1, keepdims=True)\n"
     ]
    },
    {
     "name": "stdout",
     "output_type": "stream",
     "text": [
      "dtlz7\n"
     ]
    }
   ],
   "source": [
    "get_solutions(dtlz_problems, dtlz_vars, dtlz_obj, 20, 250, 'age-moea', \n",
    "              {'pop_size':100,'mutation': Probability_Mutation(mut_dirichlet),'repair': Simplex_Repair()}, \n",
    "              name_oprt='mut-dirichlet')"
   ]
  },
  {
   "cell_type": "code",
   "execution_count": 15,
   "metadata": {},
   "outputs": [
    {
     "name": "stdout",
     "output_type": "stream",
     "text": [
      "wfg1\n",
      "wfg2\n",
      "wfg3\n",
      "wfg4\n",
      "wfg5\n",
      "wfg6\n",
      "wfg7\n",
      "wfg8\n",
      "wfg9\n"
     ]
    }
   ],
   "source": [
    "get_solutions(wfg_problems, wfg_vars, wfg_obj, 20, 250, 'age-moea', \n",
    "              {'pop_size':100,'mutation': Probability_Mutation(mut_dirichlet),'repair': Simplex_Repair()}, \n",
    "              name_oprt='mut-dirichlet')"
   ]
  },
  {
   "cell_type": "code",
   "execution_count": null,
   "metadata": {},
   "outputs": [],
   "source": [
    "get_solutions(zdt_problems, zdt_vars, zdt_obj, 20, 250, 'age-emoa', \n",
    "              {'pop_size':100,'mutation': Probability_Mutation(mut_dirichlet),'repair': Simplex_Repair()}, \n",
    "              name_oprt='mut-dirichlet')"
   ]
  },
  {
   "cell_type": "markdown",
   "metadata": {},
   "source": [
    "Problemas actuales\n",
    "\n",
    "zdt4 no se porta bien -> Sugerencia trasladar el espacio de soluciones  \n",
    "#Sobreescribir ZDT4 rango [0,1 ]\n",
    "zdt5 ¿tiene sentido?  -> Variables discretas #Se quita \n",
    "\n",
    "¿Vale la pena intentar optimizar SMS-EMOA \n"
   ]
  },
  {
   "cell_type": "code",
   "execution_count": 48,
   "metadata": {},
   "outputs": [
    {
     "data": {
      "text/plain": [
       "<pymoo.visualization.scatter.Scatter at 0x2b1d0a23d00>"
      ]
     },
     "execution_count": 48,
     "metadata": {},
     "output_type": "execute_result"
    },
    {
     "data": {
      "image/png": "[encoded data removed]",
      "text/plain": [
       "<Figure size 800x600 with 1 Axes>"
      ]
     },
     "metadata": {},
     "output_type": "display_data"
    }
   ],
   "source": [
    "from pymoo.visualization.scatter import Scatter\n",
    "#Fnsgaii = np.load('Solutions/nsgaii_baseline_dtlz1_F.npy')\n",
    "Fnsgaii_samp = np.load('Solutions/nsgaii_samp-energy_dtlz1_F.npy')\n",
    "plot = Scatter()\n",
    "#plot.add(Fnsgaii[-1, -1, : ], color=\"black\", alpha=0.7)\n",
    "plot.add(Fnsgaii_samp[-1, -1, :], color=\"red\")\n",
    "plot.show()"
   ]
  }
 ],
 "metadata": {
  "kernelspec": {
   "display_name": "Python 3",
   "language": "python",
   "name": "python3"
  },
  "language_info": {
   "codemirror_mode": {
    "name": "ipython",
    "version": 3
   },
   "file_extension": ".py",
   "mimetype": "text/x-python",
   "name": "python",
   "nbconvert_exporter": "python",
   "pygments_lexer": "ipython3",
   "version": "3.10.8"
  },
  "orig_nbformat": 4
 },
 "nbformat": 4,
 "nbformat_minor": 2
}

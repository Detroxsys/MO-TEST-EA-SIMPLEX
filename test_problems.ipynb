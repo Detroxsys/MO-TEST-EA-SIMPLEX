{
 "cells": [
  {
   "cell_type": "markdown",
   "metadata": {},
   "source": [
    "# Notebook de Testing\n",
    "\n",
    "## Bibliotecas"
   ]
  },
  {
   "cell_type": "code",
   "execution_count": 10,
   "metadata": {},
   "outputs": [],
   "source": [
    "#Básicos para manipulacion de datos \n",
    "import pandas as pd\n",
    "import numpy as np\n",
    "#Graficas \n",
    "import matplotlib.pyplot as plt\n",
    "import seaborn as sns\n",
    "sns.set_theme()\n",
    "#Auxiliares\n",
    "from tqdm import tqdm\n",
    "from itertools import compress\n",
    "from sklearn.preprocessing import MinMaxScaler\n",
    "#Optimización multiobjetivo \n",
    "from pymoo.optimize import minimize\n",
    "from pymoo.core.repair import Repair\n",
    "#Algoritmos evolutivos\n",
    "from pymoo.algorithms.moo.nsga2 import NSGA2\n",
    "from pymoo.algorithms.moo.age import AGEMOEA\n",
    "from pymoo.algorithms.moo.sms import SMSEMOA\n",
    "#Operadores \n",
    "from pymoo.visualization.scatter import Scatter\n",
    "#Features pymoo api \n",
    "from pymoo.problems import get_problem\n",
    "from pymoo.termination import get_termination\n",
    "from pymoo.problems import get_problem\n",
    "#Indicadores\n",
    "from pymoo.indicators.hv import HV\n",
    "#Población (soluciones)\n",
    "from pymoo.core.population import Population\n",
    "\n",
    "#Plugins \n",
    "from Plugins import pymoo_utils\n",
    "from Plugins import archieving_strategies\n",
    "from Plugins import operators"
   ]
  },
  {
   "cell_type": "markdown",
   "metadata": {},
   "source": [
    "## Problems Definitions"
   ]
  },
  {
   "cell_type": "code",
   "execution_count": 11,
   "metadata": {},
   "outputs": [],
   "source": [
    "#WFG Problems \n",
    "wfg_problems = ['wfg1', 'wfg2', 'wfg3', 'wfg4', 'wfg5', 'wfg6', 'wfg7', 'wfg8', 'wfg9']\n",
    "wfg_vars     = [24]*len(wfg_problems)\n",
    "wfg_obj      = [3]*len(wfg_problems)"
   ]
  },
  {
   "cell_type": "code",
   "execution_count": 12,
   "metadata": {},
   "outputs": [],
   "source": [
    "#DTLZ Problems (Not running right now)\n",
    "dtlz_problems = ['dtlz1', 'dtlz2', 'dtlz3', 'dtlz4', 'dtlz5', 'dtlz6', 'dtlz7']\n",
    "dtlz_vars = [12]*len(dtlz_problems)\n",
    "dtlz_obj  = [3]*len(dtlz_problems)\n",
    "#ZDT Problems (have to fix it)\n",
    "zdt_problems = ['zdt1', 'zdt2', 'zdt3', 'zdt4', 'zdt6']\n",
    "zdt_vars     = [30]*3 +[10, 10]\n",
    "zdt_obj      = [2]*len(zdt_problems)"
   ]
  },
  {
   "cell_type": "markdown",
   "metadata": {},
   "source": [
    "# WFG - NSGAII-RUNNING "
   ]
  },
  {
   "cell_type": "code",
   "execution_count": 13,
   "metadata": {},
   "outputs": [],
   "source": [
    "n_ejec = 20 \n",
    "n_gen  = 250"
   ]
  },
  {
   "cell_type": "markdown",
   "metadata": {},
   "source": [
    "## Soluciones para NSGA-II simple"
   ]
  },
  {
   "cell_type": "code",
   "execution_count": null,
   "metadata": {},
   "outputs": [],
   "source": [
    "pymoo_utils.get_solutions(wfg_problems, wfg_vars, wfg_obj, n_ejec, n_gen, 'nsgaii', \n",
    "              {'pop_size':100, 'repair': operators.Simplex_Repair()}, \n",
    "              name_oprt='baseline')"
   ]
  },
  {
   "cell_type": "code",
   "execution_count": null,
   "metadata": {},
   "outputs": [],
   "source": [
    "pymoo_utils.get_solutions(wfg_problems, wfg_vars, wfg_obj, n_ejec, n_gen, 'nsgaii', \n",
    "              {'pop_size':100,'sampling': operators.Sampling_Energy(), 'repair': operators.Simplex_Repair()}, \n",
    "              name_oprt='sam_energy')"
   ]
  },
  {
   "cell_type": "code",
   "execution_count": null,
   "metadata": {},
   "outputs": [],
   "source": [
    "pymoo_utils.get_solutions(wfg_problems, wfg_vars, wfg_obj, n_ejec, n_gen, 'nsgaii', \n",
    "              {'pop_size':100,'sampling': operators.Sampling_Uniform(), 'repair': operators.Simplex_Repair()}, \n",
    "              name_oprt='sam_uniform')"
   ]
  },
  {
   "cell_type": "code",
   "execution_count": 14,
   "metadata": {},
   "outputs": [
    {
     "name": "stdout",
     "output_type": "stream",
     "text": [
      "wfg1\n",
      "wfg2\n",
      "wfg3\n",
      "wfg4\n",
      "wfg5\n",
      "wfg6\n",
      "wfg7\n",
      "wfg8\n",
      "wfg9\n"
     ]
    }
   ],
   "source": [
    "pymoo_utils.get_solutions(wfg_problems, wfg_vars, wfg_obj, n_ejec, n_gen, 'nsgaii', \n",
    "              {'pop_size':100,'mutation': operators.Probability_Mutation(operators.mut_dirichlet), 'repair': operators.Simplex_Repair()}, \n",
    "              name_oprt='mut_dirichlet')\n"
   ]
  },
  {
   "cell_type": "code",
   "execution_count": 15,
   "metadata": {},
   "outputs": [
    {
     "name": "stdout",
     "output_type": "stream",
     "text": [
      "wfg1\n",
      "wfg2\n",
      "wfg3\n",
      "wfg4\n",
      "wfg5\n",
      "wfg6\n",
      "wfg7\n",
      "wfg8\n",
      "wfg9\n"
     ]
    }
   ],
   "source": [
    "pymoo_utils.get_solutions(wfg_problems, wfg_vars, wfg_obj, n_ejec, n_gen, 'nsgaii', \n",
    "              {'pop_size':100,'crossover': operators.SPX(3,3,0.001), 'repair': operators.Simplex_Repair()}, \n",
    "              name_oprt='cross_spx')"
   ]
  },
  {
   "cell_type": "markdown",
   "metadata": {},
   "source": [
    "Problemas actuales\n",
    "\n",
    "zdt4 no se porta bien -> Sugerencia trasladar el espacio de soluciones  \n",
    "#Sobreescribir ZDT4 rango [0,1 ]\n",
    "zdt5 ¿tiene sentido?  -> Variables discretas #Se quita \n",
    "\n",
    "¿Vale la pena intentar optimizar SMS-EMOA \n"
   ]
  },
  {
   "cell_type": "code",
   "execution_count": null,
   "metadata": {},
   "outputs": [],
   "source": [
    "from pymoo.visualization.scatter import Scatter\n",
    "#Fnsgaii = np.load('Solutions/nsgaii_baseline_dtlz1_F.npy')\n",
    "Fnsgaii_samp = np.load('Solutions/nsgaii_samp-energy_dtlz1_F.npy')\n",
    "plot = Scatter()\n",
    "#plot.add(Fnsgaii[-1, -1, : ], color=\"black\", alpha=0.7)\n",
    "plot.add(Fnsgaii_samp[-1, -1, :], color=\"red\")\n",
    "plot.show()"
   ]
  }
 ],
 "metadata": {
  "kernelspec": {
   "display_name": "Python 3",
   "language": "python",
   "name": "python3"
  },
  "language_info": {
   "codemirror_mode": {
    "name": "ipython",
    "version": 3
   },
   "file_extension": ".py",
   "mimetype": "text/x-python",
   "name": "python",
   "nbconvert_exporter": "python",
   "pygments_lexer": "ipython3",
   "version": "3.10.8"
  },
  "orig_nbformat": 4
 },
 "nbformat": 4,
 "nbformat_minor": 2
}

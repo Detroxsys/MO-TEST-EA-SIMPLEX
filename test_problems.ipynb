{
 "cells": [
  {
   "cell_type": "markdown",
   "metadata": {},
   "source": [
    "# Notebook de Testing\n",
    "\n",
    "## Bibliotecas"
   ]
  },
  {
   "cell_type": "code",
   "execution_count": 1,
   "metadata": {},
   "outputs": [
    {
     "name": "stderr",
     "output_type": "stream",
     "text": [
      "c:\\Users\\yeudi\\AppData\\Local\\Programs\\Python\\Python310\\lib\\site-packages\\pymoo\\algorithms\\moo\\age.py:212: NumbaDeprecationWarning: \u001b[1mThe 'nopython' keyword argument was not supplied to the 'numba.jit' decorator. The implicit default value for this argument is currently False, but it will be changed to True in Numba 0.59.0. See https://numba.readthedocs.io/en/stable/reference/deprecation.html#deprecation-of-object-mode-fall-back-behaviour-when-using-jit for details.\u001b[0m\n",
      "  @jit(fastmath=True)\n",
      "c:\\Users\\yeudi\\AppData\\Local\\Programs\\Python\\Python310\\lib\\site-packages\\pymoo\\algorithms\\moo\\age.py:222: NumbaDeprecationWarning: \u001b[1mThe 'nopython' keyword argument was not supplied to the 'numba.jit' decorator. The implicit default value for this argument is currently False, but it will be changed to True in Numba 0.59.0. See https://numba.readthedocs.io/en/stable/reference/deprecation.html#deprecation-of-object-mode-fall-back-behaviour-when-using-jit for details.\u001b[0m\n",
      "  @jit(fastmath=True)\n",
      "c:\\Users\\yeudi\\AppData\\Local\\Programs\\Python\\Python310\\lib\\site-packages\\pymoo\\algorithms\\moo\\age.py:257: NumbaDeprecationWarning: \u001b[1mThe 'nopython' keyword argument was not supplied to the 'numba.jit' decorator. The implicit default value for this argument is currently False, but it will be changed to True in Numba 0.59.0. See https://numba.readthedocs.io/en/stable/reference/deprecation.html#deprecation-of-object-mode-fall-back-behaviour-when-using-jit for details.\u001b[0m\n",
      "  @jit(fastmath=True)\n"
     ]
    }
   ],
   "source": [
    "#Básicos para manipulacion de datos \n",
    "import pandas as pd\n",
    "import numpy as np\n",
    "#Graficas \n",
    "import matplotlib.pyplot as plt\n",
    "import seaborn as sns\n",
    "sns.set_theme()\n",
    "#Auxiliares\n",
    "from tqdm import tqdm\n",
    "from itertools import compress\n",
    "from sklearn.preprocessing import MinMaxScaler\n",
    "#Optimización multiobjetivo \n",
    "from pymoo.optimize import minimize\n",
    "from pymoo.core.repair import Repair\n",
    "#Algoritmos evolutivos\n",
    "from pymoo.algorithms.moo.nsga2 import NSGA2\n",
    "from pymoo.algorithms.moo.nsga3 import NSGA3\n",
    "from pymoo.algorithms.moo.age import AGEMOEA\n",
    "from pymoo.algorithms.moo.sms import SMSEMOA\n",
    "#Operadores \n",
    "from pymoo.visualization.scatter import Scatter\n",
    "#Features pymoo api \n",
    "from pymoo.problems import get_problem\n",
    "from pymoo.termination import get_termination\n",
    "from pymoo.problems import get_problem\n",
    "from pymoo.util.ref_dirs import get_reference_directions\n",
    "#Indicadores\n",
    "from pymoo.indicators.hv import HV\n",
    "#Población (soluciones)\n",
    "from pymoo.core.population import Population\n",
    "\n",
    "#Plugins \n",
    "from Plugins import pymoo_utils\n",
    "from Plugins import archieving_strategies\n",
    "from Plugins import operators"
   ]
  },
  {
   "cell_type": "markdown",
   "metadata": {},
   "source": [
    "## Problems Definitions"
   ]
  },
  {
   "cell_type": "code",
   "execution_count": 2,
   "metadata": {},
   "outputs": [],
   "source": [
    "#WFG Problems \n",
    "wfg_problems = ['wfg1', 'wfg2', 'wfg3', 'wfg4', 'wfg5', 'wfg6', 'wfg7', 'wfg8', 'wfg9']\n",
    "wfg_vars     = [24]*len(wfg_problems)\n",
    "wfg_obj      = [3]*len(wfg_problems)\n",
    "#DTLZ Problems \n",
    "dtlz_problems = ['dtlz1', 'dtlz2', 'dtlz3', 'dtlz4', 'dtlz5', 'dtlz6', 'dtlz7']\n",
    "dtlz_vars = [12]*len(dtlz_problems)\n",
    "dtlz_obj  = [3]*len(dtlz_problems)\n",
    "#ZDT Problems \n",
    "zdt_problems = ['zdt1', 'zdt2', 'zdt3', 'zdt4', 'zdt6']\n",
    "zdt_vars     = [np.nan]*len(zdt_problems)\n",
    "zdt_obj      = [np.nan]*len(zdt_problems)\n",
    "#General Problems\n",
    "general_problems = wfg_problems+ dtlz_problems + zdt_problems\n",
    "general_vars     = wfg_vars + dtlz_vars + zdt_vars\n",
    "general_obj      = wfg_obj + dtlz_obj + zdt_obj"
   ]
  },
  {
   "cell_type": "markdown",
   "metadata": {},
   "source": [
    "Tiempos de ejecución predefinidos"
   ]
  },
  {
   "cell_type": "code",
   "execution_count": 6,
   "metadata": {},
   "outputs": [],
   "source": [
    "n_ejec = 20\n",
    "n_gen  = 250"
   ]
  },
  {
   "cell_type": "markdown",
   "metadata": {},
   "source": [
    "# NSGA-II"
   ]
  },
  {
   "cell_type": "markdown",
   "metadata": {},
   "source": [
    "## Baseline "
   ]
  },
  {
   "cell_type": "code",
   "execution_count": 6,
   "metadata": {},
   "outputs": [],
   "source": [
    "#pymoo_utils.get_solutions_fake(general_problems, general_vars, general_obj, n_ejec, n_gen, 'nsgaii', \n",
    "#              {'pop_size':100, 'repair': operators.Simplex_Repair()}, \n",
    "#              name_oprt='baseline')"
   ]
  },
  {
   "cell_type": "markdown",
   "metadata": {},
   "source": [
    "## Samplings "
   ]
  },
  {
   "cell_type": "code",
   "execution_count": 11,
   "metadata": {},
   "outputs": [
    {
     "name": "stdout",
     "output_type": "stream",
     "text": [
      "dtlz3\n"
     ]
    }
   ],
   "source": [
    "# pymoo_utils.get_solutions_fake(general_problems, general_vars, general_obj, n_ejec, n_gen, 'nsgaii', \n",
    "#               {'pop_size':100,'sampling': operators.Sampling_Energy(), 'repair': operators.Simplex_Repair()}, \n",
    "#               name_oprt='sam_energy')\n",
    "# pymoo_utils.get_solutions_fake(general_problems, general_vars, general_obj, n_ejec, n_gen, 'nsgaii', \n",
    "#               {'pop_size':100,'sampling': operators.Sampling_Uniform(), 'repair': operators.Simplex_Repair()}, \n",
    "#               name_oprt='sam_uniform')\n",
    "# pymoo_utils.get_solutions_fake(general_problems, general_vars, general_obj, n_ejec, n_gen, 'nsgaii', \n",
    "#               {'pop_size':100,'sampling': operators.Sampling_RED_D(), 'repair': operators.Simplex_Repair()}, \n",
    "#               name_oprt='sam_redd')\n",
    "#pymoo_utils.get_solutions(general_problems, general_vars, general_obj,n_ejec, n_gen, 'nsgaii', \n",
    "#               {'pop_size':100,'sampling': operators.Sampling_MSS_D(), 'repair': operators.Simplex_Repair()}, \n",
    "#               name_oprt='sam_mssd')"
   ]
  },
  {
   "cell_type": "markdown",
   "metadata": {},
   "source": [
    "## Mutations"
   ]
  },
  {
   "cell_type": "code",
   "execution_count": 5,
   "metadata": {},
   "outputs": [
    {
     "name": "stdout",
     "output_type": "stream",
     "text": [
      "wfg1\n",
      "wfg2\n",
      "wfg3\n",
      "wfg4\n",
      "wfg5\n",
      "wfg6\n",
      "wfg7\n",
      "wfg8\n",
      "wfg9\n",
      "dtlz1\n",
      "dtlz2\n",
      "dtlz3\n",
      "dtlz4\n",
      "dtlz5\n",
      "dtlz6\n",
      "dtlz7\n",
      "zdt1\n",
      "zdt2\n",
      "zdt3\n",
      "zdt4\n",
      "zdt6\n"
     ]
    }
   ],
   "source": [
    "#pymoo_utils.get_solutions_fake(general_problems, general_vars, general_obj, n_ejec, n_gen, 'nsgaii', \n",
    "#               {'pop_size':100,'mutation': operators.Probability_Mutation(operators.mut_dirichlet), 'repair': operators.Simplex_Repair()}, \n",
    "#               name_oprt='mut_dirichlet')\n",
    "# pymoo_utils.get_solutions(general_problems, general_vars, general_obj, n_ejec, n_gen, 'nsgaii', \n",
    "#                {'pop_size':100,'mutation': operators.Probability_Mutation(operators.mut_lognormal_transform), 'repair': operators.Simplex_Repair()}, \n",
    "#                name_oprt='mut_lognormal')\n",
    "#pymoo_utils.get_solutions(general_problems, general_vars, general_obj, n_ejec, n_gen, 'nsgaii', \n",
    "#                {'pop_size':100,'mutation': operators.Probability_Mutation(operators.mut_exponential_transform), 'repair': operators.Simplex_Repair()}, \n",
    "#                name_oprt='mut_exponential')\n",
    "# pymoo_utils.get_solutions(general_problems, general_vars, general_obj, n_ejec, n_gen, 'nsgaii', \n",
    "#                {'pop_size':100,'mutation': operators.Probability_Mutation(operators.mut_normal_transform), 'repair': operators.Simplex_Repair()}, \n",
    "#                name_oprt='mut_normal')"
   ]
  },
  {
   "cell_type": "markdown",
   "metadata": {},
   "source": [
    "# SMS-EMOA"
   ]
  },
  {
   "cell_type": "markdown",
   "metadata": {},
   "source": [
    "## Baseline"
   ]
  },
  {
   "cell_type": "code",
   "execution_count": 8,
   "metadata": {},
   "outputs": [
    {
     "name": "stdout",
     "output_type": "stream",
     "text": [
      "wfg1\n",
      "wfg2\n",
      "wfg3\n"
     ]
    },
    {
     "ename": "KeyboardInterrupt",
     "evalue": "",
     "output_type": "error",
     "traceback": [
      "\u001b[1;31m---------------------------------------------------------------------------\u001b[0m",
      "\u001b[1;31mKeyboardInterrupt\u001b[0m                         Traceback (most recent call last)",
      "\u001b[1;32md:\\GitHub\\MO-TEST-EA-SIMPLEX\\test_problems.ipynb Cell 16\u001b[0m line \u001b[0;36m1\n\u001b[1;32m----> <a href='vscode-notebook-cell:/d%3A/GitHub/MO-TEST-EA-SIMPLEX/test_problems.ipynb#X56sZmlsZQ%3D%3D?line=0'>1</a>\u001b[0m pymoo_utils\u001b[39m.\u001b[39;49mget_solutions_fake(general_problems, general_vars, general_obj, n_ejec, n_gen, \u001b[39m'\u001b[39;49m\u001b[39msms_emoa\u001b[39;49m\u001b[39m'\u001b[39;49m, \n\u001b[0;32m      <a href='vscode-notebook-cell:/d%3A/GitHub/MO-TEST-EA-SIMPLEX/test_problems.ipynb#X56sZmlsZQ%3D%3D?line=1'>2</a>\u001b[0m               {\u001b[39m'\u001b[39;49m\u001b[39mpop_size\u001b[39;49m\u001b[39m'\u001b[39;49m:\u001b[39m100\u001b[39;49m, \u001b[39m'\u001b[39;49m\u001b[39mrepair\u001b[39;49m\u001b[39m'\u001b[39;49m: operators\u001b[39m.\u001b[39;49mSimplex_Repair()}, \n\u001b[0;32m      <a href='vscode-notebook-cell:/d%3A/GitHub/MO-TEST-EA-SIMPLEX/test_problems.ipynb#X56sZmlsZQ%3D%3D?line=2'>3</a>\u001b[0m               name_oprt\u001b[39m=\u001b[39;49m\u001b[39m'\u001b[39;49m\u001b[39mbaseline\u001b[39;49m\u001b[39m'\u001b[39;49m)\n",
      "File \u001b[1;32md:\\GitHub\\MO-TEST-EA-SIMPLEX\\Plugins\\pymoo_utils.py:114\u001b[0m, in \u001b[0;36mget_solutions_fake\u001b[1;34m(problems, vars, objs, n_ejec, n_gen, name_algorithm, kwargs_algorithm, name_oprt)\u001b[0m\n\u001b[0;32m    110\u001b[0m     \u001b[39mprint\u001b[39m(name_problem)\n\u001b[0;32m    111\u001b[0m     sols \u001b[39m=\u001b[39m Generator_Solutions(n_ejec, n_gen, name_problem, name_algorithm, \n\u001b[0;32m    112\u001b[0m                                {\u001b[39m'\u001b[39m\u001b[39mn_var\u001b[39m\u001b[39m'\u001b[39m: \u001b[39mvars\u001b[39m[i], \u001b[39m'\u001b[39m\u001b[39mn_obj\u001b[39m\u001b[39m'\u001b[39m: objs[i]}, \n\u001b[0;32m    113\u001b[0m                                kwargs_algorithm)\n\u001b[1;32m--> 114\u001b[0m     sols\u001b[39m.\u001b[39;49mget_extensive_population(save\u001b[39m=\u001b[39;49m\u001b[39mFalse\u001b[39;49;00m, name_files\u001b[39m=\u001b[39;49m\u001b[39m'\u001b[39;49m\u001b[39mSolutions/\u001b[39;49m\u001b[39m'\u001b[39;49m\u001b[39m+\u001b[39;49mname_algorithm\u001b[39m+\u001b[39;49m\u001b[39m'\u001b[39;49m\u001b[39m/\u001b[39;49m\u001b[39m'\u001b[39;49m\u001b[39m+\u001b[39;49mname_problem\u001b[39m+\u001b[39;49m\u001b[39m'\u001b[39;49m\u001b[39m_\u001b[39;49m\u001b[39m'\u001b[39;49m\u001b[39m+\u001b[39;49mname_oprt)\n\u001b[0;32m    115\u001b[0m \u001b[39mreturn\u001b[39;00m\n",
      "File \u001b[1;32md:\\GitHub\\MO-TEST-EA-SIMPLEX\\Plugins\\pymoo_utils.py:86\u001b[0m, in \u001b[0;36mGenerator_Solutions.get_extensive_population\u001b[1;34m(self, save, name_files)\u001b[0m\n\u001b[0;32m     84\u001b[0m \u001b[39mdef\u001b[39;00m \u001b[39mget_extensive_population\u001b[39m(\u001b[39mself\u001b[39m, save\u001b[39m=\u001b[39m\u001b[39mTrue\u001b[39;00m, name_files\u001b[39m=\u001b[39m\u001b[39m'\u001b[39m\u001b[39m'\u001b[39m): \n\u001b[0;32m     85\u001b[0m     \u001b[39mfor\u001b[39;00m i \u001b[39min\u001b[39;00m \u001b[39mrange\u001b[39m(\u001b[39mself\u001b[39m\u001b[39m.\u001b[39mn_ejec): \n\u001b[1;32m---> 86\u001b[0m         res \u001b[39m=\u001b[39m minimize(problem \u001b[39m=\u001b[39;49m \u001b[39mself\u001b[39;49m\u001b[39m.\u001b[39;49mproblem,\n\u001b[0;32m     87\u001b[0m                        algorithm \u001b[39m=\u001b[39;49m \u001b[39mself\u001b[39;49m\u001b[39m.\u001b[39;49malgorithm,\n\u001b[0;32m     88\u001b[0m                        termination \u001b[39m=\u001b[39;49m \u001b[39mself\u001b[39;49m\u001b[39m.\u001b[39;49mtermination, \n\u001b[0;32m     89\u001b[0m                        save_history\u001b[39m=\u001b[39;49m\u001b[39mTrue\u001b[39;49;00m)\n\u001b[0;32m     90\u001b[0m         \u001b[39mfor\u001b[39;00m j, algo \u001b[39min\u001b[39;00m \u001b[39menumerate\u001b[39m(res\u001b[39m.\u001b[39mhistory): \n\u001b[0;32m     91\u001b[0m             \u001b[39mself\u001b[39m\u001b[39m.\u001b[39mMega_X[i, j] \u001b[39m=\u001b[39m algo\u001b[39m.\u001b[39moff\u001b[39m.\u001b[39mget(\u001b[39m'\u001b[39m\u001b[39mX\u001b[39m\u001b[39m'\u001b[39m)\n",
      "File \u001b[1;32mc:\\Users\\yeudi\\AppData\\Local\\Programs\\Python\\Python310\\lib\\site-packages\\pymoo\\optimize.py:67\u001b[0m, in \u001b[0;36mminimize\u001b[1;34m(problem, algorithm, termination, copy_algorithm, copy_termination, **kwargs)\u001b[0m\n\u001b[0;32m     64\u001b[0m     algorithm\u001b[39m.\u001b[39msetup(problem, \u001b[39m*\u001b[39m\u001b[39m*\u001b[39mkwargs)\n\u001b[0;32m     66\u001b[0m \u001b[39m# actually execute the algorithm\u001b[39;00m\n\u001b[1;32m---> 67\u001b[0m res \u001b[39m=\u001b[39m algorithm\u001b[39m.\u001b[39;49mrun()\n\u001b[0;32m     69\u001b[0m \u001b[39m# store the deep copied algorithm in the result object\u001b[39;00m\n\u001b[0;32m     70\u001b[0m res\u001b[39m.\u001b[39malgorithm \u001b[39m=\u001b[39m algorithm\n",
      "File \u001b[1;32mc:\\Users\\yeudi\\AppData\\Local\\Programs\\Python\\Python310\\lib\\site-packages\\pymoo\\core\\algorithm.py:141\u001b[0m, in \u001b[0;36mAlgorithm.run\u001b[1;34m(self)\u001b[0m\n\u001b[0;32m    139\u001b[0m \u001b[39mdef\u001b[39;00m \u001b[39mrun\u001b[39m(\u001b[39mself\u001b[39m):\n\u001b[0;32m    140\u001b[0m     \u001b[39mwhile\u001b[39;00m \u001b[39mself\u001b[39m\u001b[39m.\u001b[39mhas_next():\n\u001b[1;32m--> 141\u001b[0m         \u001b[39mself\u001b[39;49m\u001b[39m.\u001b[39;49mnext()\n\u001b[0;32m    142\u001b[0m     \u001b[39mreturn\u001b[39;00m \u001b[39mself\u001b[39m\u001b[39m.\u001b[39mresult()\n",
      "File \u001b[1;32mc:\\Users\\yeudi\\AppData\\Local\\Programs\\Python\\Python310\\lib\\site-packages\\pymoo\\core\\algorithm.py:162\u001b[0m, in \u001b[0;36mAlgorithm.next\u001b[1;34m(self)\u001b[0m\n\u001b[0;32m    160\u001b[0m \u001b[39mif\u001b[39;00m infills \u001b[39mis\u001b[39;00m \u001b[39mnot\u001b[39;00m \u001b[39mNone\u001b[39;00m:\n\u001b[0;32m    161\u001b[0m     \u001b[39mself\u001b[39m\u001b[39m.\u001b[39mevaluator\u001b[39m.\u001b[39meval(\u001b[39mself\u001b[39m\u001b[39m.\u001b[39mproblem, infills, algorithm\u001b[39m=\u001b[39m\u001b[39mself\u001b[39m)\n\u001b[1;32m--> 162\u001b[0m     \u001b[39mself\u001b[39;49m\u001b[39m.\u001b[39;49madvance(infills\u001b[39m=\u001b[39;49minfills)\n\u001b[0;32m    164\u001b[0m \u001b[39m# if the algorithm does not follow the infill-advance scheme just call advance\u001b[39;00m\n\u001b[0;32m    165\u001b[0m \u001b[39melse\u001b[39;00m:\n\u001b[0;32m    166\u001b[0m     \u001b[39mself\u001b[39m\u001b[39m.\u001b[39madvance()\n",
      "File \u001b[1;32mc:\\Users\\yeudi\\AppData\\Local\\Programs\\Python\\Python310\\lib\\site-packages\\pymoo\\core\\algorithm.py:228\u001b[0m, in \u001b[0;36mAlgorithm.advance\u001b[1;34m(self, infills, **kwargs)\u001b[0m\n\u001b[0;32m    223\u001b[0m     \u001b[39mself\u001b[39m\u001b[39m.\u001b[39m_post_advance()\n\u001b[0;32m    225\u001b[0m \u001b[39melse\u001b[39;00m:\n\u001b[0;32m    226\u001b[0m \n\u001b[0;32m    227\u001b[0m     \u001b[39m# call the implementation of the advance method - if the infill is not None\u001b[39;00m\n\u001b[1;32m--> 228\u001b[0m     val \u001b[39m=\u001b[39m \u001b[39mself\u001b[39m\u001b[39m.\u001b[39m_advance(infills\u001b[39m=\u001b[39minfills, \u001b[39m*\u001b[39m\u001b[39m*\u001b[39mkwargs)\n\u001b[0;32m    230\u001b[0m     \u001b[39m# always advance to the next iteration - except if the algorithm returns False\u001b[39;00m\n\u001b[0;32m    231\u001b[0m     \u001b[39mif\u001b[39;00m val \u001b[39mis\u001b[39;00m \u001b[39mNone\u001b[39;00m \u001b[39mor\u001b[39;00m val:\n",
      "File \u001b[1;32mc:\\Users\\yeudi\\AppData\\Local\\Programs\\Python\\Python310\\lib\\site-packages\\pymoo\\algorithms\\moo\\sms.py:188\u001b[0m, in \u001b[0;36mSMSEMOA._advance\u001b[1;34m(self, infills, **kwargs)\u001b[0m\n\u001b[0;32m    185\u001b[0m \u001b[39mif\u001b[39;00m infills \u001b[39mis\u001b[39;00m \u001b[39mnot\u001b[39;00m \u001b[39mNone\u001b[39;00m:\n\u001b[0;32m    186\u001b[0m     pop \u001b[39m=\u001b[39m Population\u001b[39m.\u001b[39mmerge(\u001b[39mself\u001b[39m\u001b[39m.\u001b[39mpop, infills)\n\u001b[1;32m--> 188\u001b[0m \u001b[39mself\u001b[39m\u001b[39m.\u001b[39mpop \u001b[39m=\u001b[39m \u001b[39mself\u001b[39m\u001b[39m.\u001b[39msurvival\u001b[39m.\u001b[39mdo(\u001b[39mself\u001b[39m\u001b[39m.\u001b[39mproblem, pop, n_survive\u001b[39m=\u001b[39m\u001b[39mself\u001b[39m\u001b[39m.\u001b[39mpop_size, algorithm\u001b[39m=\u001b[39m\u001b[39mself\u001b[39m,\n\u001b[0;32m    189\u001b[0m                             ideal\u001b[39m=\u001b[39mideal, nadir\u001b[39m=\u001b[39mnadir, \u001b[39m*\u001b[39m\u001b[39m*\u001b[39mkwargs)\n",
      "File \u001b[1;32mc:\\Users\\yeudi\\AppData\\Local\\Programs\\Python\\Python310\\lib\\site-packages\\pymoo\\core\\survival.py:55\u001b[0m, in \u001b[0;36mSurvival.do\u001b[1;34m(self, problem, pop, n_survive, return_indices, *args, **kwargs)\u001b[0m\n\u001b[0;32m     52\u001b[0m         survivors \u001b[39m=\u001b[39m Population\u001b[39m.\u001b[39mmerge(survivors, pop[infeas[:n_remaining]])\n\u001b[0;32m     54\u001b[0m \u001b[39melse\u001b[39;00m:\n\u001b[1;32m---> 55\u001b[0m     survivors \u001b[39m=\u001b[39m \u001b[39mself\u001b[39m\u001b[39m.\u001b[39m_do(problem, pop, \u001b[39m*\u001b[39margs, n_survive\u001b[39m=\u001b[39mn_survive, \u001b[39m*\u001b[39m\u001b[39m*\u001b[39mkwargs)\n\u001b[0;32m     57\u001b[0m \u001b[39mif\u001b[39;00m return_indices:\n\u001b[0;32m     58\u001b[0m     H \u001b[39m=\u001b[39m {}\n",
      "File \u001b[1;32mc:\\Users\\yeudi\\AppData\\Local\\Programs\\Python\\Python310\\lib\\site-packages\\pymoo\\algorithms\\moo\\sms.py:82\u001b[0m, in \u001b[0;36mLeastHypervolumeContributionSurvival._do\u001b[1;34m(self, problem, pop, n_survive, ideal, nadir, *args, **kwargs)\u001b[0m\n\u001b[0;32m     80\u001b[0m     \u001b[39mwhile\u001b[39;00m \u001b[39mlen\u001b[39m(survivors) \u001b[39m+\u001b[39m \u001b[39mlen\u001b[39m(front) \u001b[39m>\u001b[39m n_survive:\n\u001b[0;32m     81\u001b[0m         k \u001b[39m=\u001b[39m hv\u001b[39m.\u001b[39mhvc\u001b[39m.\u001b[39margmin()\n\u001b[1;32m---> 82\u001b[0m         hv\u001b[39m.\u001b[39;49mdelete(k)\n\u001b[0;32m     83\u001b[0m         front \u001b[39m=\u001b[39m np\u001b[39m.\u001b[39mdelete(front, k)\n\u001b[0;32m     85\u001b[0m \u001b[39m# extend the survivors by all or selected individuals\u001b[39;00m\n",
      "File \u001b[1;32mc:\\Users\\yeudi\\AppData\\Local\\Programs\\Python\\Python310\\lib\\site-packages\\pymoo\\indicators\\hv\\exact.py:45\u001b[0m, in \u001b[0;36mDynamicHypervolume.delete\u001b[1;34m(self, k)\u001b[0m\n\u001b[0;32m     43\u001b[0m \u001b[39massert\u001b[39;00m k \u001b[39m<\u001b[39m \u001b[39mlen\u001b[39m(\u001b[39mself\u001b[39m\u001b[39m.\u001b[39mF)\n\u001b[0;32m     44\u001b[0m \u001b[39mself\u001b[39m\u001b[39m.\u001b[39mF \u001b[39m=\u001b[39m np\u001b[39m.\u001b[39mdelete(\u001b[39mself\u001b[39m\u001b[39m.\u001b[39mF, k, axis\u001b[39m=\u001b[39m\u001b[39m0\u001b[39m)\n\u001b[1;32m---> 45\u001b[0m \u001b[39mself\u001b[39m\u001b[39m.\u001b[39mhv, \u001b[39mself\u001b[39m\u001b[39m.\u001b[39mhvc \u001b[39m=\u001b[39m \u001b[39mself\u001b[39;49m\u001b[39m.\u001b[39;49mcalc()\n\u001b[0;32m     46\u001b[0m \u001b[39mreturn\u001b[39;00m \u001b[39mself\u001b[39m\n",
      "File \u001b[1;32mc:\\Users\\yeudi\\AppData\\Local\\Programs\\Python\\Python310\\lib\\site-packages\\pymoo\\indicators\\hv\\exact.py:49\u001b[0m, in \u001b[0;36mDynamicHypervolume.calc\u001b[1;34m(self)\u001b[0m\n\u001b[0;32m     48\u001b[0m \u001b[39mdef\u001b[39;00m \u001b[39mcalc\u001b[39m(\u001b[39mself\u001b[39m):\n\u001b[1;32m---> 49\u001b[0m     \u001b[39mreturn\u001b[39;00m \u001b[39mself\u001b[39;49m\u001b[39m.\u001b[39;49m_calc(\u001b[39mself\u001b[39;49m\u001b[39m.\u001b[39;49mref_point, \u001b[39mself\u001b[39;49m\u001b[39m.\u001b[39;49mF)\n",
      "File \u001b[1;32mc:\\Users\\yeudi\\AppData\\Local\\Programs\\Python\\Python310\\lib\\site-packages\\pymoo\\indicators\\hv\\exact.py:63\u001b[0m, in \u001b[0;36mDynamicHypervolume._calc\u001b[1;34m(self, ref_point, F)\u001b[0m\n\u001b[0;32m     61\u001b[0m hvc \u001b[39m=\u001b[39m \u001b[39mNone\u001b[39;00m\n\u001b[0;32m     62\u001b[0m \u001b[39mif\u001b[39;00m \u001b[39mself\u001b[39m\u001b[39m.\u001b[39mfunc_hvc \u001b[39mis\u001b[39;00m \u001b[39mnot\u001b[39;00m \u001b[39mNone\u001b[39;00m:\n\u001b[1;32m---> 63\u001b[0m     hvc \u001b[39m=\u001b[39m \u001b[39mself\u001b[39;49m\u001b[39m.\u001b[39;49mfunc_hvc(ref_point, F)\n\u001b[0;32m     65\u001b[0m \u001b[39mreturn\u001b[39;00m hv, hvc\n",
      "File \u001b[1;32mc:\\Users\\yeudi\\AppData\\Local\\Programs\\Python\\Python310\\lib\\site-packages\\pymoo\\indicators\\hv\\exact.py:14\u001b[0m, in \u001b[0;36mhvc_exact_loopwise\u001b[1;34m(ref_point, F)\u001b[0m\n\u001b[0;32m     13\u001b[0m \u001b[39mdef\u001b[39;00m \u001b[39mhvc_exact_loopwise\u001b[39m(ref_point, F):\n\u001b[1;32m---> 14\u001b[0m     \u001b[39mreturn\u001b[39;00m hvc_looped(ref_point, F, hv_exact)\n",
      "File \u001b[1;32mc:\\Users\\yeudi\\AppData\\Local\\Programs\\Python\\Python310\\lib\\site-packages\\pymoo\\indicators\\hv\\__init__.py:59\u001b[0m, in \u001b[0;36mhvc_looped\u001b[1;34m(ref_point, F, func)\u001b[0m\n\u001b[0;32m     57\u001b[0m     v \u001b[39m=\u001b[39m np\u001b[39m.\u001b[39mfull(\u001b[39mlen\u001b[39m(F), \u001b[39mTrue\u001b[39;00m)\n\u001b[0;32m     58\u001b[0m     v[k] \u001b[39m=\u001b[39m \u001b[39mFalse\u001b[39;00m\n\u001b[1;32m---> 59\u001b[0m     _hv \u001b[39m=\u001b[39m func(ref_point, F[v])\n\u001b[0;32m     60\u001b[0m     hvc\u001b[39m.\u001b[39mappend(hv \u001b[39m-\u001b[39m _hv)\n\u001b[0;32m     62\u001b[0m hvc \u001b[39m=\u001b[39m np\u001b[39m.\u001b[39marray(hvc)\n",
      "File \u001b[1;32mc:\\Users\\yeudi\\AppData\\Local\\Programs\\Python\\Python310\\lib\\site-packages\\pymoo\\indicators\\hv\\exact.py:7\u001b[0m, in \u001b[0;36mhv_exact\u001b[1;34m(ref_point, F)\u001b[0m\n\u001b[0;32m      3\u001b[0m \u001b[39mfrom\u001b[39;00m \u001b[39mpymoo\u001b[39;00m\u001b[39m.\u001b[39;00m\u001b[39mindicators\u001b[39;00m\u001b[39m.\u001b[39;00m\u001b[39mhv\u001b[39;00m \u001b[39mimport\u001b[39;00m hvc_looped\n\u001b[0;32m      4\u001b[0m \u001b[39mfrom\u001b[39;00m \u001b[39mpymoo\u001b[39;00m\u001b[39m.\u001b[39;00m\u001b[39mutil\u001b[39;00m\u001b[39m.\u001b[39;00m\u001b[39mfunction_loader\u001b[39;00m \u001b[39mimport\u001b[39;00m load_function\n\u001b[1;32m----> 7\u001b[0m \u001b[39mdef\u001b[39;00m \u001b[39mhv_exact\u001b[39m(ref_point, F):\n\u001b[0;32m      8\u001b[0m     func \u001b[39m=\u001b[39m load_function(\u001b[39m\"\u001b[39m\u001b[39mhv\u001b[39m\u001b[39m\"\u001b[39m)\n\u001b[0;32m      9\u001b[0m     hv \u001b[39m=\u001b[39m func(ref_point, F)\n",
      "\u001b[1;31mKeyboardInterrupt\u001b[0m: "
     ]
    }
   ],
   "source": [
    "pymoo_utils.get_solutions(general_problems, general_vars, general_obj, n_ejec, n_gen, 'sms_emoa', \n",
    "              {'pop_size':100, 'repair': operators.Simplex_Repair()}, \n",
    "              name_oprt='baseline')"
   ]
  },
  {
   "cell_type": "code",
   "execution_count": null,
   "metadata": {},
   "outputs": [],
   "source": [
    "pymoo_utils.get_solutions_fake(general_problems, general_vars, general_obj, n_ejec, n_gen, 'sms_emoa', \n",
    "               {'pop_size':100,'sampling': operators.Sampling_Energy(), 'repair': operators.Simplex_Repair()}, \n",
    "               name_oprt='sam_energy')\n",
    "pymoo_utils.get_solutions_fake(general_problems, general_vars, general_obj, n_ejec, n_gen, 'sms_emoa', \n",
    "               {'pop_size':100,'sampling': operators.Sampling_Uniform(), 'repair': operators.Simplex_Repair()}, \n",
    "               name_oprt='sam_uniform')"
   ]
  },
  {
   "cell_type": "code",
   "execution_count": null,
   "metadata": {},
   "outputs": [],
   "source": [
    "pymoo_utils.get_solutions_fake(general_problems, general_vars, general_obj, n_ejec, n_gen, 'sms_emoa', \n",
    "               {'pop_size':100,'sampling': operators.Sampling_RED_D(), 'repair': operators.Simplex_Repair()}, \n",
    "               name_oprt='sam_redd')\n",
    "pymoo_utils.get_solutions(general_problems, general_vars, general_obj,n_ejec, n_gen, 'sms_emoa', \n",
    "               {'pop_size':100,'sampling': operators.Sampling_MSS_D(), 'repair': operators.Simplex_Repair()}, \n",
    "               name_oprt='sam_mssd')"
   ]
  },
  {
   "cell_type": "markdown",
   "metadata": {},
   "source": [
    "# AGE-MOEA"
   ]
  },
  {
   "cell_type": "markdown",
   "metadata": {},
   "source": [
    "## Baseline"
   ]
  },
  {
   "cell_type": "code",
   "execution_count": null,
   "metadata": {},
   "outputs": [],
   "source": [
    "#pymoo_utils.get_solutions_fake(general_problems, general_vars, general_obj, n_ejec, n_gen, 'age_moea', \n",
    "#              {'pop_size':100, 'repair': operators.Simplex_Repair()}, \n",
    "#              name_oprt='baseline')"
   ]
  },
  {
   "cell_type": "markdown",
   "metadata": {},
   "source": [
    "## Samplings"
   ]
  },
  {
   "cell_type": "code",
   "execution_count": null,
   "metadata": {},
   "outputs": [],
   "source": [
    "# pymoo_utils.get_solutions_fake(general_problems, general_vars, general_obj, n_ejec, n_gen, 'age_moea', \n",
    "#               {'pop_size':100,'sampling': operators.Sampling_Energy(), 'repair': operators.Simplex_Repair()}, \n",
    "#               name_oprt='sam_energy')\n",
    "# pymoo_utils.get_solutions_fake(general_problems, general_vars, general_obj, n_ejec, n_gen, 'age_moea', \n",
    "#               {'pop_size':100,'sampling': operators.Sampling_Uniform(), 'repair': operators.Simplex_Repair()}, \n",
    "#               name_oprt='sam_uniform')\n",
    "#FALTAN\n",
    "#pymoo_utils.get_solutions_fake(general_problems, general_vars, general_obj, n_ejec, n_gen, 'age_moea', \n",
    "#              {'pop_size':100,'sampling': operators.Sampling_RED_D(), 'repair': operators.Simplex_Repair()}, \n",
    "#              name_oprt='sam_redd')\n",
    "#pymoo_utils.get_solutions_fake(general_problems, general_vars, general_obj, n_ejec, n_gen, 'age_moea', \n",
    "#              {'pop_size':100,'sampling': operators.Sampling_MSS_D(), 'repair': operators.Simplex_Repair()}, \n",
    "#              name_oprt='sam_mssd')"
   ]
  },
  {
   "cell_type": "markdown",
   "metadata": {},
   "source": [
    "## Mutations"
   ]
  },
  {
   "cell_type": "code",
   "execution_count": 7,
   "metadata": {},
   "outputs": [],
   "source": [
    "#pymoo_utils.get_solutions_fake(general_problems, general_vars, general_obj, n_ejec, n_gen, 'age_moea', \n",
    "#              {'pop_size':100,'mutation': operators.Probability_Mutation(operators.mut_dirichlet), 'repair': operators.Simplex_Repair()}, \n",
    "#              name_oprt='mut_dirichlet')\n",
    "# pymoo_utils.get_solutions_fake(general_problems, general_vars, general_obj, n_ejec, n_gen, 'age_moea', \n",
    "#                {'pop_size':100,'mutation': operators.Probability_Mutation(operators.mut_lognormal_transform), 'repair': operators.Simplex_Repair()}, \n",
    "#                name_oprt='mut_lognormal')\n",
    "# pymoo_utils.get_solutions_fake(general_problems, general_vars, general_obj, n_ejec, n_gen, 'age_moea', \n",
    "#                {'pop_size':100,'mutation': operators.Probability_Mutation(operators.mut_exponential_transform), 'repair': operators.Simplex_Repair()}, \n",
    "#                name_oprt='mut_exponential')\n",
    "# pymoo_utils.get_solutions_fake(general_problems, general_vars, general_obj, n_ejec, n_gen, 'age_moea', \n",
    "#                {'pop_size':100,'mutation': operators.Probability_Mutation(operators.mut_normal_transform), 'repair': operators.Simplex_Repair()}, \n",
    "#                name_oprt='mut_normal')"
   ]
  },
  {
   "cell_type": "markdown",
   "metadata": {},
   "source": [
    "# NSGA-III"
   ]
  },
  {
   "cell_type": "code",
   "execution_count": 8,
   "metadata": {},
   "outputs": [],
   "source": [
    "n_ejec = 20 \n",
    "n_gen =250\n",
    "ref_dirs_3D = get_reference_directions(\"energy\", 3, 100, seed=42)\n",
    "ref_dirs_2D = get_reference_directions(\"energy\", 2, 100, seed=42)"
   ]
  },
  {
   "cell_type": "markdown",
   "metadata": {},
   "source": [
    "## Baseline"
   ]
  },
  {
   "cell_type": "code",
   "execution_count": 12,
   "metadata": {},
   "outputs": [
    {
     "name": "stdout",
     "output_type": "stream",
     "text": [
      "wfg1\n",
      "wfg2\n",
      "wfg3\n",
      "wfg4\n",
      "wfg5\n",
      "wfg6\n",
      "wfg7\n",
      "wfg8\n",
      "wfg9\n",
      "dtlz1\n",
      "dtlz2\n",
      "dtlz3\n",
      "dtlz4\n",
      "dtlz5\n",
      "dtlz6\n",
      "dtlz7\n",
      "zdt1\n",
      "zdt2\n",
      "zdt3\n",
      "zdt4\n",
      "zdt6\n"
     ]
    }
   ],
   "source": [
    "# pymoo_utils.get_solutions(wfg_problems, wfg_vars, wfg_obj, n_ejec, n_gen, 'nsgaiii', \n",
    "#              {'pop_size':100,'ref_dirs':ref_dirs_3D, 'repair': operators.Simplex_Repair()}, \n",
    "#              name_oprt='baseline')\n",
    "# pymoo_utils.get_solutions(dtlz_problems, dtlz_vars, dtlz_obj, n_ejec, n_gen, 'nsgaiii', \n",
    "#              {'pop_size':100,'ref_dirs':ref_dirs_3D, 'repair': operators.Simplex_Repair()}, \n",
    "#              name_oprt='baseline')\n",
    "# pymoo_utils.get_solutions(zdt_problems, zdt_vars, zdt_obj, n_ejec, n_gen, 'nsgaiii', \n",
    "#              {'pop_size':100,'ref_dirs':ref_dirs_2D, 'repair': operators.Simplex_Repair()}, \n",
    "#              name_oprt='baseline')"
   ]
  },
  {
   "cell_type": "markdown",
   "metadata": {},
   "source": [
    "## Samplings"
   ]
  },
  {
   "cell_type": "code",
   "execution_count": 13,
   "metadata": {},
   "outputs": [
    {
     "name": "stdout",
     "output_type": "stream",
     "text": [
      "wfg1\n",
      "wfg2\n",
      "wfg3\n",
      "wfg4\n",
      "wfg5\n",
      "wfg6\n",
      "wfg7\n",
      "wfg8\n",
      "wfg9\n",
      "dtlz1\n",
      "dtlz2\n",
      "dtlz3\n",
      "dtlz4\n",
      "dtlz5\n",
      "dtlz6\n",
      "dtlz7\n",
      "zdt1\n",
      "zdt2\n",
      "zdt3\n",
      "zdt4\n",
      "zdt6\n",
      "wfg1\n",
      "wfg2\n",
      "wfg3\n",
      "wfg4\n",
      "wfg5\n",
      "wfg6\n",
      "wfg7\n",
      "wfg8\n",
      "wfg9\n",
      "dtlz1\n",
      "dtlz2\n",
      "dtlz3\n",
      "dtlz4\n",
      "dtlz5\n",
      "dtlz6\n",
      "dtlz7\n",
      "zdt1\n",
      "zdt2\n",
      "zdt3\n",
      "zdt4\n",
      "zdt6\n",
      "wfg1\n",
      "wfg2\n",
      "wfg3\n",
      "wfg4\n",
      "wfg5\n",
      "wfg6\n",
      "wfg7\n",
      "wfg8\n",
      "wfg9\n",
      "dtlz1\n",
      "dtlz2\n",
      "dtlz3\n",
      "dtlz4\n",
      "dtlz5\n",
      "dtlz6\n",
      "dtlz7\n",
      "zdt1\n",
      "zdt2\n",
      "zdt3\n",
      "zdt4\n",
      "zdt6\n",
      "wfg1\n",
      "wfg2\n",
      "wfg3\n",
      "wfg4\n",
      "wfg5\n",
      "wfg6\n",
      "wfg7\n",
      "wfg8\n",
      "wfg9\n",
      "dtlz1\n",
      "dtlz2\n",
      "dtlz3\n",
      "dtlz4\n",
      "dtlz5\n",
      "dtlz6\n",
      "dtlz7\n",
      "zdt1\n",
      "zdt2\n",
      "zdt3\n",
      "zdt4\n",
      "zdt6\n"
     ]
    }
   ],
   "source": [
    "# pymoo_utils.get_solutions(wfg_problems, wfg_vars, wfg_obj, n_ejec, n_gen, 'nsgaiii', \n",
    "#              {'pop_size':100,'sampling': operators.Sampling_Energy(),\n",
    "#               'ref_dirs':ref_dirs_3D, 'repair': operators.Simplex_Repair()}, \n",
    "#              name_oprt='sam_energy')\n",
    "# pymoo_utils.get_solutions(dtlz_problems, dtlz_vars, dtlz_obj, n_ejec, n_gen, 'nsgaiii', \n",
    "#              {'pop_size':100,'sampling': operators.Sampling_Energy(),\n",
    "#               'ref_dirs':ref_dirs_3D, 'repair': operators.Simplex_Repair()}, \n",
    "#              name_oprt='sam_energy')\n",
    "# pymoo_utils.get_solutions(zdt_problems, zdt_vars, zdt_obj, n_ejec, n_gen, 'nsgaiii', \n",
    "#              {'pop_size':100,'sampling': operators.Sampling_Energy(),\n",
    "#               'ref_dirs':ref_dirs_2D, 'repair': operators.Simplex_Repair()}, \n",
    "#              name_oprt='sam_energy')\n",
    "\n",
    "# pymoo_utils.get_solutions(wfg_problems, wfg_vars, wfg_obj, n_ejec, n_gen, 'nsgaiii', \n",
    "#              {'pop_size':100,'sampling': operators.Sampling_Uniform(),\n",
    "#               'ref_dirs':ref_dirs_3D, 'repair': operators.Simplex_Repair()}, \n",
    "#              name_oprt='sam_uniform')\n",
    "# pymoo_utils.get_solutions(dtlz_problems, dtlz_vars, dtlz_obj, n_ejec, n_gen, 'nsgaiii', \n",
    "#              {'pop_size':100,'sampling': operators.Sampling_Uniform(),\n",
    "#               'ref_dirs':ref_dirs_3D, 'repair': operators.Simplex_Repair()}, \n",
    "#              name_oprt='sam_uniform')\n",
    "# pymoo_utils.get_solutions(zdt_problems, zdt_vars, zdt_obj, n_ejec, n_gen, 'nsgaiii', \n",
    "#              {'pop_size':100,'sampling': operators.Sampling_Uniform(),\n",
    "#               'ref_dirs':ref_dirs_2D, 'repair': operators.Simplex_Repair()}, \n",
    "#              name_oprt='sam_uniform')\n",
    "\n",
    "# pymoo_utils.get_solutions(wfg_problems, wfg_vars, wfg_obj, n_ejec, n_gen, 'nsgaiii', \n",
    "#              {'pop_size':100,'sampling': operators.Sampling_RED_D(),\n",
    "#               'ref_dirs':ref_dirs_3D, 'repair': operators.Simplex_Repair()}, \n",
    "#              name_oprt='sam_redd')\n",
    "# pymoo_utils.get_solutions(dtlz_problems, dtlz_vars, dtlz_obj, n_ejec, n_gen, 'nsgaiii', \n",
    "#              {'pop_size':100,'sampling': operators.Sampling_RED_D(),\n",
    "#               'ref_dirs':ref_dirs_3D, 'repair': operators.Simplex_Repair()}, \n",
    "#              name_oprt='sam_redd')\n",
    "# pymoo_utils.get_solutions(zdt_problems, zdt_vars, zdt_obj, n_ejec, n_gen, 'nsgaiii', \n",
    "#              {'pop_size':100,'sampling': operators.Sampling_RED_D(),\n",
    "#               'ref_dirs':ref_dirs_2D, 'repair': operators.Simplex_Repair()}, \n",
    "#              name_oprt='sam_redd')\n",
    "\n",
    "# pymoo_utils.get_solutions(wfg_problems, wfg_vars, wfg_obj, n_ejec, n_gen, 'nsgaiii', \n",
    "#              {'pop_size':100,'sampling': operators.Sampling_MSS_D(),\n",
    "#               'ref_dirs':ref_dirs_3D, 'repair': operators.Simplex_Repair()}, \n",
    "#              name_oprt='sam_mssd')\n",
    "# pymoo_utils.get_solutions(dtlz_problems, dtlz_vars, dtlz_obj, n_ejec, n_gen, 'nsgaiii', \n",
    "#              {'pop_size':100,'sampling': operators.Sampling_MSS_D(),\n",
    "#               'ref_dirs':ref_dirs_3D, 'repair': operators.Simplex_Repair()}, \n",
    "#              name_oprt='sam_mssd')\n",
    "# pymoo_utils.get_solutions(zdt_problems, zdt_vars, zdt_obj, n_ejec, n_gen, 'nsgaiii', \n",
    "#              {'pop_size':100,'sampling': operators.Sampling_MSS_D(),\n",
    "#               'ref_dirs':ref_dirs_2D, 'repair': operators.Simplex_Repair()}, \n",
    "#              name_oprt='sam_mssd')"
   ]
  },
  {
   "cell_type": "markdown",
   "metadata": {},
   "source": [
    "## Mutations"
   ]
  },
  {
   "cell_type": "code",
   "execution_count": 11,
   "metadata": {},
   "outputs": [
    {
     "name": "stdout",
     "output_type": "stream",
     "text": [
      "zdt1\n",
      "zdt2\n",
      "zdt3\n",
      "zdt4\n",
      "zdt6\n",
      "wfg1\n",
      "wfg2\n",
      "wfg3\n",
      "wfg4\n",
      "wfg5\n",
      "wfg6\n",
      "wfg7\n",
      "wfg8\n",
      "wfg9\n",
      "dtlz1\n",
      "dtlz2\n",
      "dtlz3\n",
      "dtlz4\n",
      "dtlz5\n",
      "dtlz6\n",
      "dtlz7\n",
      "zdt1\n",
      "zdt2\n",
      "zdt3\n",
      "zdt4\n",
      "zdt6\n",
      "wfg1\n",
      "wfg2\n",
      "wfg3\n",
      "wfg4\n",
      "wfg5\n",
      "wfg6\n",
      "wfg7\n",
      "wfg8\n",
      "wfg9\n",
      "dtlz1\n",
      "dtlz2\n",
      "dtlz3\n",
      "dtlz4\n",
      "dtlz5\n",
      "dtlz6\n",
      "dtlz7\n",
      "zdt1\n",
      "zdt2\n",
      "zdt3\n",
      "zdt4\n",
      "zdt6\n"
     ]
    }
   ],
   "source": [
    "# pymoo_utils.get_solutions(wfg_problems, wfg_vars, wfg_obj, n_ejec, n_gen, 'nsgaiii', \n",
    "#              {'pop_size':100,'mutation': operators.Probability_Mutation(operators.mut_dirichlet),\n",
    "#               'ref_dirs':ref_dirs_3D, 'repair': operators.Simplex_Repair()}, \n",
    "#              name_oprt='mut_dirichlet')\n",
    "# pymoo_utils.get_solutions(dtlz_problems, dtlz_vars, dtlz_obj, n_ejec, n_gen, 'nsgaiii', \n",
    "#              {'pop_size':100,'mutation': operators.Probability_Mutation(operators.mut_dirichlet), \n",
    "#               'ref_dirs':ref_dirs_3D, 'repair': operators.Simplex_Repair()}, \n",
    "#              name_oprt='mut_dirichlet')\n",
    "# pymoo_utils.get_solutions(zdt_problems, zdt_vars, zdt_obj, n_ejec, n_gen, 'nsgaiii', \n",
    "#              {'pop_size':100,'mutation': operators.Probability_Mutation(operators.mut_dirichlet),\n",
    "#               'ref_dirs':ref_dirs_2D, 'repair': operators.Simplex_Repair()}, \n",
    "#              name_oprt='mut_dirichlet')\n",
    "\n",
    "# pymoo_utils.get_solutions(wfg_problems, wfg_vars, wfg_obj, n_ejec, n_gen, 'nsgaiii', \n",
    "#                {'pop_size':100,'mutation': operators.Probability_Mutation(operators.mut_lognormal_transform),\n",
    "#                  'ref_dirs':ref_dirs_3D,'repair': operators.Simplex_Repair()}, \n",
    "#                name_oprt='mut_lognormal')\n",
    "# pymoo_utils.get_solutions(dtlz_problems, dtlz_vars, dtlz_obj, n_ejec, n_gen, 'nsgaiii', \n",
    "#                {'pop_size':100,'mutation': operators.Probability_Mutation(operators.mut_lognormal_transform), \n",
    "#                  'ref_dirs':ref_dirs_3D,'repair': operators.Simplex_Repair()}, \n",
    "#                name_oprt='mut_lognormal')\n",
    "# pymoo_utils.get_solutions(zdt_problems, zdt_vars, zdt_obj, n_ejec, n_gen, 'nsgaiii', \n",
    "#                {'pop_size':100,'mutation': operators.Probability_Mutation(operators.mut_lognormal_transform),\n",
    "#                  'ref_dirs':ref_dirs_2D,'repair': operators.Simplex_Repair()}, \n",
    "#                name_oprt='mut_lognormal')\n",
    "\n",
    "# pymoo_utils.get_solutions(wfg_problems, wfg_vars, wfg_obj, n_ejec, n_gen, 'nsgaiii', \n",
    "#                {'pop_size':100,'mutation': operators.Probability_Mutation(operators.mut_exponential_transform), \n",
    "#                 'ref_dirs':ref_dirs_3D, 'repair': operators.Simplex_Repair()}, \n",
    "#                name_oprt='mut_exponential')\n",
    "# pymoo_utils.get_solutions(dtlz_problems, dtlz_vars, dtlz_obj, n_ejec, n_gen, 'nsgaiii', \n",
    "#                {'pop_size':100,'mutation': operators.Probability_Mutation(operators.mut_exponential_transform), \n",
    "#                 'ref_dirs':ref_dirs_3D, 'repair': operators.Simplex_Repair()}, \n",
    "#                name_oprt='mut_exponential')\n",
    "# pymoo_utils.get_solutions(zdt_problems, zdt_vars, zdt_obj, n_ejec, n_gen, 'nsgaiii', \n",
    "#                {'pop_size':100,'mutation': operators.Probability_Mutation(operators.mut_exponential_transform),\n",
    "#                 'ref_dirs':ref_dirs_2D, 'repair': operators.Simplex_Repair()}, \n",
    "#                name_oprt='mut_exponential')\n",
    "\n",
    "# pymoo_utils.get_solutions(wfg_problems, wfg_vars, wfg_obj, n_ejec, n_gen, 'nsgaiii', \n",
    "#                {'pop_size':100,'mutation': operators.Probability_Mutation(operators.mut_normal_transform), \n",
    "#                 'ref_dirs':ref_dirs_3D, 'repair': operators.Simplex_Repair()}, \n",
    "#                name_oprt='mut_normal')\n",
    "# pymoo_utils.get_solutions(dtlz_problems, dtlz_vars, dtlz_obj, n_ejec, n_gen, 'nsgaiii', \n",
    "#                {'pop_size':100,'mutation': operators.Probability_Mutation(operators.mut_normal_transform),\n",
    "#                 'ref_dirs':ref_dirs_3D,'repair': operators.Simplex_Repair()}, \n",
    "#                name_oprt='mut_normal')\n",
    "# pymoo_utils.get_solutions(zdt_problems, zdt_vars, zdt_obj, n_ejec, n_gen, 'nsgaiii', \n",
    "#                {'pop_size':100,'mutation': operators.Probability_Mutation(operators.mut_normal_transform),\n",
    "#                 'ref_dirs':ref_dirs_2D, 'repair': operators.Simplex_Repair()}, \n",
    "#                name_oprt='mut_normal')"
   ]
  },
  {
   "cell_type": "markdown",
   "metadata": {},
   "source": [
    "## MOEAD"
   ]
  },
  {
   "cell_type": "markdown",
   "metadata": {},
   "source": [
    "### Baseline"
   ]
  },
  {
   "cell_type": "code",
   "execution_count": 15,
   "metadata": {},
   "outputs": [
    {
     "name": "stdout",
     "output_type": "stream",
     "text": [
      "wfg1\n",
      "wfg2\n",
      "wfg3\n",
      "wfg4\n",
      "wfg5\n",
      "wfg6\n",
      "wfg7\n",
      "wfg8\n",
      "wfg9\n",
      "dtlz1\n",
      "dtlz2\n",
      "dtlz3\n",
      "dtlz4\n",
      "dtlz5\n",
      "dtlz6\n",
      "dtlz7\n",
      "zdt1\n",
      "zdt2\n",
      "zdt3\n",
      "zdt4\n",
      "zdt6\n"
     ]
    }
   ],
   "source": [
    "# pymoo_utils.get_solutions(wfg_problems, wfg_vars, wfg_obj, n_ejec, n_gen, 'moead', \n",
    "#              {'ref_dirs':ref_dirs_3D, 'repair': operators.Simplex_Repair()}, \n",
    "#              name_oprt='baseline')\n",
    "# pymoo_utils.get_solutions(dtlz_problems, dtlz_vars, dtlz_obj, n_ejec, n_gen, 'moead', \n",
    "#              {'ref_dirs':ref_dirs_3D, 'repair': operators.Simplex_Repair()}, \n",
    "#              name_oprt='baseline')\n",
    "# pymoo_utils.get_solutions(zdt_problems, zdt_vars, zdt_obj, n_ejec, n_gen, 'moead', \n",
    "#              {'ref_dirs':ref_dirs_2D, 'repair': operators.Simplex_Repair()}, \n",
    "#              name_oprt='baseline')"
   ]
  },
  {
   "cell_type": "markdown",
   "metadata": {},
   "source": [
    "### Samplings"
   ]
  },
  {
   "cell_type": "code",
   "execution_count": 16,
   "metadata": {},
   "outputs": [
    {
     "name": "stdout",
     "output_type": "stream",
     "text": [
      "wfg1\n",
      "wfg2\n",
      "wfg3\n",
      "wfg4\n",
      "wfg5\n",
      "wfg6\n",
      "wfg7\n",
      "wfg8\n",
      "wfg9\n",
      "dtlz1\n",
      "dtlz2\n",
      "dtlz3\n",
      "dtlz4\n",
      "dtlz5\n",
      "dtlz6\n",
      "dtlz7\n",
      "zdt1\n",
      "zdt2\n",
      "zdt3\n",
      "zdt4\n",
      "zdt6\n",
      "wfg1\n",
      "wfg2\n",
      "wfg3\n",
      "wfg4\n",
      "wfg5\n",
      "wfg6\n",
      "wfg7\n",
      "wfg8\n",
      "wfg9\n",
      "dtlz1\n",
      "dtlz2\n",
      "dtlz3\n",
      "dtlz4\n",
      "dtlz5\n",
      "dtlz6\n",
      "dtlz7\n",
      "zdt1\n",
      "zdt2\n",
      "zdt3\n",
      "zdt4\n",
      "zdt6\n",
      "wfg1\n",
      "wfg2\n",
      "wfg3\n",
      "wfg4\n",
      "wfg5\n",
      "wfg6\n",
      "wfg7\n",
      "wfg8\n",
      "wfg9\n",
      "dtlz1\n",
      "dtlz2\n",
      "dtlz3\n",
      "dtlz4\n",
      "dtlz5\n",
      "dtlz6\n",
      "dtlz7\n",
      "zdt1\n",
      "zdt2\n",
      "zdt3\n",
      "zdt4\n",
      "zdt6\n",
      "wfg1\n",
      "wfg2\n",
      "wfg3\n",
      "wfg4\n",
      "wfg5\n",
      "wfg6\n",
      "wfg7\n",
      "wfg8\n",
      "wfg9\n",
      "dtlz1\n",
      "dtlz2\n",
      "dtlz3\n",
      "dtlz4\n",
      "dtlz5\n",
      "dtlz6\n",
      "dtlz7\n",
      "zdt1\n",
      "zdt2\n",
      "zdt3\n",
      "zdt4\n",
      "zdt6\n"
     ]
    }
   ],
   "source": [
    "# pymoo_utils.get_solutions(wfg_problems, wfg_vars, wfg_obj, n_ejec, n_gen, 'moead', \n",
    "#              {'sampling': operators.Sampling_Energy(),\n",
    "#               'ref_dirs':ref_dirs_3D, 'repair': operators.Simplex_Repair()}, \n",
    "#              name_oprt='sam_energy')\n",
    "# pymoo_utils.get_solutions(dtlz_problems, dtlz_vars, dtlz_obj, n_ejec, n_gen, 'moead', \n",
    "#              {'sampling': operators.Sampling_Energy(),\n",
    "#               'ref_dirs':ref_dirs_3D, 'repair': operators.Simplex_Repair()}, \n",
    "#              name_oprt='sam_energy')\n",
    "# pymoo_utils.get_solutions(zdt_problems, zdt_vars, zdt_obj, n_ejec, n_gen, 'moead', \n",
    "#              {'sampling': operators.Sampling_Energy(),\n",
    "#               'ref_dirs':ref_dirs_2D, 'repair': operators.Simplex_Repair()}, \n",
    "#              name_oprt='sam_energy')\n",
    "\n",
    "# pymoo_utils.get_solutions(wfg_problems, wfg_vars, wfg_obj, n_ejec, n_gen, 'moead', \n",
    "#              {'sampling': operators.Sampling_Uniform(),\n",
    "#               'ref_dirs':ref_dirs_3D, 'repair': operators.Simplex_Repair()}, \n",
    "#              name_oprt='sam_uniform')\n",
    "# pymoo_utils.get_solutions(dtlz_problems, dtlz_vars, dtlz_obj, n_ejec, n_gen, 'moead', \n",
    "#              {'sampling': operators.Sampling_Uniform(),\n",
    "#               'ref_dirs':ref_dirs_3D, 'repair': operators.Simplex_Repair()}, \n",
    "#              name_oprt='sam_uniform')\n",
    "# pymoo_utils.get_solutions(zdt_problems, zdt_vars, zdt_obj, n_ejec, n_gen, 'moead', \n",
    "#              {'sampling': operators.Sampling_Uniform(),\n",
    "#               'ref_dirs':ref_dirs_2D, 'repair': operators.Simplex_Repair()}, \n",
    "#              name_oprt='sam_uniform')\n",
    "\n",
    "# pymoo_utils.get_solutions(wfg_problems, wfg_vars, wfg_obj, n_ejec, n_gen, 'moead', \n",
    "#              {'sampling': operators.Sampling_RED_D(),\n",
    "#               'ref_dirs':ref_dirs_3D, 'repair': operators.Simplex_Repair()}, \n",
    "#              name_oprt='sam_redd')\n",
    "# pymoo_utils.get_solutions(dtlz_problems, dtlz_vars, dtlz_obj, n_ejec, n_gen, 'moead', \n",
    "#              {'sampling': operators.Sampling_RED_D(),\n",
    "#               'ref_dirs':ref_dirs_3D, 'repair': operators.Simplex_Repair()}, \n",
    "#              name_oprt='sam_redd')\n",
    "# pymoo_utils.get_solutions(zdt_problems, zdt_vars, zdt_obj, n_ejec, n_gen, 'moead', \n",
    "#              {'sampling': operators.Sampling_RED_D(),\n",
    "#               'ref_dirs':ref_dirs_2D, 'repair': operators.Simplex_Repair()}, \n",
    "#              name_oprt='sam_redd')\n",
    "\n",
    "# pymoo_utils.get_solutions(wfg_problems, wfg_vars, wfg_obj, n_ejec, n_gen, 'moead', \n",
    "#              {'sampling': operators.Sampling_MSS_D(),\n",
    "#               'ref_dirs':ref_dirs_3D, 'repair': operators.Simplex_Repair()}, \n",
    "#              name_oprt='sam_mssd')\n",
    "# pymoo_utils.get_solutions(dtlz_problems, dtlz_vars, dtlz_obj, n_ejec, n_gen, 'moead', \n",
    "#              {'sampling': operators.Sampling_MSS_D(),\n",
    "#               'ref_dirs':ref_dirs_3D, 'repair': operators.Simplex_Repair()}, \n",
    "#              name_oprt='sam_mssd')\n",
    "# pymoo_utils.get_solutions(zdt_problems, zdt_vars, zdt_obj, n_ejec, n_gen, 'moead', \n",
    "#              {'sampling': operators.Sampling_MSS_D(),\n",
    "#               'ref_dirs':ref_dirs_2D, 'repair': operators.Simplex_Repair()}, \n",
    "#              name_oprt='sam_mssd')"
   ]
  },
  {
   "cell_type": "markdown",
   "metadata": {},
   "source": [
    "### Mutations"
   ]
  },
  {
   "cell_type": "code",
   "execution_count": 17,
   "metadata": {},
   "outputs": [
    {
     "name": "stdout",
     "output_type": "stream",
     "text": [
      "wfg1\n",
      "wfg2\n",
      "wfg3\n",
      "wfg4\n",
      "wfg5\n",
      "wfg6\n",
      "wfg7\n",
      "wfg8\n",
      "wfg9\n",
      "dtlz1\n",
      "dtlz2\n",
      "dtlz3\n",
      "dtlz4\n",
      "dtlz5\n",
      "dtlz6\n",
      "dtlz7\n",
      "zdt1\n",
      "zdt2\n",
      "zdt3\n",
      "zdt4\n",
      "zdt6\n",
      "wfg1\n",
      "wfg2\n",
      "wfg3\n",
      "wfg4\n",
      "wfg5\n",
      "wfg6\n",
      "wfg7\n",
      "wfg8\n",
      "wfg9\n",
      "dtlz1\n",
      "dtlz2\n",
      "dtlz3\n",
      "dtlz4\n",
      "dtlz5\n",
      "dtlz6\n",
      "dtlz7\n",
      "zdt1\n",
      "zdt2\n",
      "zdt3\n",
      "zdt4\n",
      "zdt6\n",
      "wfg1\n",
      "wfg2\n",
      "wfg3\n",
      "wfg4\n",
      "wfg5\n",
      "wfg6\n",
      "wfg7\n",
      "wfg8\n",
      "wfg9\n",
      "dtlz1\n",
      "dtlz2\n",
      "dtlz3\n",
      "dtlz4\n",
      "dtlz5\n",
      "dtlz6\n",
      "dtlz7\n",
      "zdt1\n",
      "zdt2\n",
      "zdt3\n",
      "zdt4\n",
      "zdt6\n",
      "wfg1\n",
      "wfg2\n",
      "wfg3\n",
      "wfg4\n",
      "wfg5\n",
      "wfg6\n",
      "wfg7\n",
      "wfg8\n",
      "wfg9\n",
      "dtlz1\n",
      "dtlz2\n",
      "dtlz3\n",
      "dtlz4\n",
      "dtlz5\n",
      "dtlz6\n",
      "dtlz7\n",
      "zdt1\n",
      "zdt2\n",
      "zdt3\n",
      "zdt4\n",
      "zdt6\n"
     ]
    }
   ],
   "source": [
    "# pymoo_utils.get_solutions(wfg_problems, wfg_vars, wfg_obj, n_ejec, n_gen, 'moead', \n",
    "#              {'mutation': operators.Probability_Mutation(operators.mut_dirichlet),\n",
    "#               'ref_dirs':ref_dirs_3D, 'repair': operators.Simplex_Repair()}, \n",
    "#              name_oprt='mut_dirichlet')\n",
    "# pymoo_utils.get_solutions(dtlz_problems, dtlz_vars, dtlz_obj, n_ejec, n_gen, 'moead', \n",
    "#              {'mutation': operators.Probability_Mutation(operators.mut_dirichlet), \n",
    "#               'ref_dirs':ref_dirs_3D, 'repair': operators.Simplex_Repair()}, \n",
    "#              name_oprt='mut_dirichlet')\n",
    "# pymoo_utils.get_solutions(zdt_problems, zdt_vars, zdt_obj, n_ejec, n_gen, 'moead', \n",
    "#              {'mutation': operators.Probability_Mutation(operators.mut_dirichlet),\n",
    "#               'ref_dirs':ref_dirs_2D, 'repair': operators.Simplex_Repair()}, \n",
    "#              name_oprt='mut_dirichlet')\n",
    "\n",
    "# pymoo_utils.get_solutions(wfg_problems, wfg_vars, wfg_obj, n_ejec, n_gen, 'moead', \n",
    "#                {'mutation': operators.Probability_Mutation(operators.mut_lognormal_transform),\n",
    "#                  'ref_dirs':ref_dirs_3D,'repair': operators.Simplex_Repair()}, \n",
    "#                name_oprt='mut_lognormal')\n",
    "# pymoo_utils.get_solutions(dtlz_problems, dtlz_vars, dtlz_obj, n_ejec, n_gen, 'moead', \n",
    "#                {'mutation': operators.Probability_Mutation(operators.mut_lognormal_transform), \n",
    "#                  'ref_dirs':ref_dirs_3D,'repair': operators.Simplex_Repair()}, \n",
    "#                name_oprt='mut_lognormal')\n",
    "# pymoo_utils.get_solutions(zdt_problems, zdt_vars, zdt_obj, n_ejec, n_gen, 'moead', \n",
    "#                {'mutation': operators.Probability_Mutation(operators.mut_lognormal_transform),\n",
    "#                  'ref_dirs':ref_dirs_2D,'repair': operators.Simplex_Repair()}, \n",
    "#                name_oprt='mut_lognormal')\n",
    "\n",
    "# pymoo_utils.get_solutions(wfg_problems, wfg_vars, wfg_obj, n_ejec, n_gen, 'moead', \n",
    "#                {'mutation': operators.Probability_Mutation(operators.mut_exponential_transform), \n",
    "#                 'ref_dirs':ref_dirs_3D, 'repair': operators.Simplex_Repair()}, \n",
    "#                name_oprt='mut_exponential')\n",
    "# pymoo_utils.get_solutions(dtlz_problems, dtlz_vars, dtlz_obj, n_ejec, n_gen, 'moead', \n",
    "#                {'mutation': operators.Probability_Mutation(operators.mut_exponential_transform), \n",
    "#                 'ref_dirs':ref_dirs_3D, 'repair': operators.Simplex_Repair()}, \n",
    "#                name_oprt='mut_exponential')\n",
    "# pymoo_utils.get_solutions(zdt_problems, zdt_vars, zdt_obj, n_ejec, n_gen, 'moead', \n",
    "#                {'mutation': operators.Probability_Mutation(operators.mut_exponential_transform),\n",
    "#                 'ref_dirs':ref_dirs_2D, 'repair': operators.Simplex_Repair()}, \n",
    "#                name_oprt='mut_exponential')\n",
    "\n",
    "# pymoo_utils.get_solutions(wfg_problems, wfg_vars, wfg_obj, n_ejec, n_gen, 'moead', \n",
    "#                {'mutation': operators.Probability_Mutation(operators.mut_normal_transform), \n",
    "#                 'ref_dirs':ref_dirs_3D, 'repair': operators.Simplex_Repair()}, \n",
    "#                name_oprt='mut_normal')\n",
    "# pymoo_utils.get_solutions(dtlz_problems, dtlz_vars, dtlz_obj, n_ejec, n_gen, 'moead', \n",
    "#                {'mutation': operators.Probability_Mutation(operators.mut_normal_transform),\n",
    "#                 'ref_dirs':ref_dirs_3D,'repair': operators.Simplex_Repair()}, \n",
    "#                name_oprt='mut_normal')\n",
    "# pymoo_utils.get_solutions(zdt_problems, zdt_vars, zdt_obj, n_ejec, n_gen, 'moead', \n",
    "#                {'mutation': operators.Probability_Mutation(operators.mut_normal_transform),\n",
    "#                 'ref_dirs':ref_dirs_2D, 'repair': operators.Simplex_Repair()}, \n",
    "#                name_oprt='mut_normal')"
   ]
  },
  {
   "cell_type": "markdown",
   "metadata": {},
   "source": [
    "# Review NaN errors"
   ]
  },
  {
   "cell_type": "code",
   "execution_count": 3,
   "metadata": {},
   "outputs": [],
   "source": [
    "def checkingNaNs(problems, oprts, name_algorithm): \n",
    "    count_missing = 0\n",
    "    count_error_shape = 0 \n",
    "    for problem in problems: \n",
    "        for name_oprt in oprts: \n",
    "            Mega_X = np.load('Solutions/'+name_algorithm+'/'+problem+'_'+name_oprt+'_X.npy')\n",
    "            Mega_F = np.load('Solutions/'+name_algorithm+'/'+problem+'_'+name_oprt+'_F.npy')\n",
    "            #print(Mega_X.shape)\n",
    "            #print(Mega_F.shape)\n",
    "            if np.any(Mega_X.shape[:3]!= (20, 250, 100)): \n",
    "                count_error_shape+=1 \n",
    "                print(problem, name_algorithm, name_oprt,'Error shape')\n",
    "            if np.any(Mega_F.shape[:3]!= (20, 250, 100)): \n",
    "                print(problem, name_algorithm, name_oprt, 'Error shape')\n",
    "            if np.any(np.isnan(Mega_X))!=0: \n",
    "                count_missing +=1\n",
    "                print(problem, name_oprt, Mega_X.shape, np.sum(np.isnan(Mega_X)))\n",
    "            if np.any(np.isnan(Mega_F))!=0: \n",
    "                print(problem, name_oprt, Mega_F.shape, np.sum(np.isnan(Mega_F)))\n",
    "    print('Total of Datasets with missingsproblems: ', count_missing)\n",
    "    print('Total of Datasets with incorrection shape: ', count_error_shape)\n",
    "            "
   ]
  },
  {
   "cell_type": "code",
   "execution_count": 4,
   "metadata": {},
   "outputs": [
    {
     "name": "stdout",
     "output_type": "stream",
     "text": [
      "nsgaii\n",
      "Total of Datasets with missingsproblems:  0\n",
      "Total of Datasets with incorrection shape:  0\n",
      "age_moea\n",
      "Total of Datasets with missingsproblems:  0\n",
      "Total of Datasets with incorrection shape:  0\n",
      "nsgaiii\n",
      "dtlz4 mut_dirichlet (20, 250, 100, 12) 12\n",
      "dtlz4 mut_dirichlet (20, 250, 100, 3) 3\n",
      "Total of Datasets with missingsproblems:  1\n",
      "Total of Datasets with incorrection shape:  0\n",
      "moead\n",
      "Total of Datasets with missingsproblems:  0\n",
      "Total of Datasets with incorrection shape:  0\n"
     ]
    }
   ],
   "source": [
    "algorithms = ['nsgaii','age_moea', 'nsgaiii', 'moead' ] #, 'age_moea', 'nsgaiii' 'nsgaii'\n",
    "methods = ['baseline', 'sam_energy', 'sam_uniform','sam_redd', 'sam_mssd' ,'mut_dirichlet', 'mut_exponential', 'mut_normal', 'mut_lognormal']\n",
    "for algorithm in algorithms: \n",
    "    print(algorithm)\n",
    "    checkingNaNs(wfg_problems+dtlz_problems+zdt_problems, methods,  algorithm)"
   ]
  }
 ],
 "metadata": {
  "kernelspec": {
   "display_name": "Python 3",
   "language": "python",
   "name": "python3"
  },
  "language_info": {
   "codemirror_mode": {
    "name": "ipython",
    "version": 3
   },
   "file_extension": ".py",
   "mimetype": "text/x-python",
   "name": "python",
   "nbconvert_exporter": "python",
   "pygments_lexer": "ipython3",
   "version": "3.10.8"
  },
  "orig_nbformat": 4
 },
 "nbformat": 4,
 "nbformat_minor": 2
}

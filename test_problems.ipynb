{
 "cells": [
  {
   "cell_type": "markdown",
   "metadata": {},
   "source": [
    "# Notebook de Testing\n",
    "\n",
    "## Bibliotecas"
   ]
  },
  {
   "cell_type": "code",
   "execution_count": 1,
   "metadata": {},
   "outputs": [
    {
     "name": "stderr",
     "output_type": "stream",
     "text": [
      "c:\\Users\\yeudi\\AppData\\Local\\Programs\\Python\\Python310\\lib\\site-packages\\pymoo\\algorithms\\moo\\age.py:212: NumbaDeprecationWarning: \u001b[1mThe 'nopython' keyword argument was not supplied to the 'numba.jit' decorator. The implicit default value for this argument is currently False, but it will be changed to True in Numba 0.59.0. See https://numba.readthedocs.io/en/stable/reference/deprecation.html#deprecation-of-object-mode-fall-back-behaviour-when-using-jit for details.\u001b[0m\n",
      "  @jit(fastmath=True)\n",
      "c:\\Users\\yeudi\\AppData\\Local\\Programs\\Python\\Python310\\lib\\site-packages\\pymoo\\algorithms\\moo\\age.py:222: NumbaDeprecationWarning: \u001b[1mThe 'nopython' keyword argument was not supplied to the 'numba.jit' decorator. The implicit default value for this argument is currently False, but it will be changed to True in Numba 0.59.0. See https://numba.readthedocs.io/en/stable/reference/deprecation.html#deprecation-of-object-mode-fall-back-behaviour-when-using-jit for details.\u001b[0m\n",
      "  @jit(fastmath=True)\n",
      "c:\\Users\\yeudi\\AppData\\Local\\Programs\\Python\\Python310\\lib\\site-packages\\pymoo\\algorithms\\moo\\age.py:257: NumbaDeprecationWarning: \u001b[1mThe 'nopython' keyword argument was not supplied to the 'numba.jit' decorator. The implicit default value for this argument is currently False, but it will be changed to True in Numba 0.59.0. See https://numba.readthedocs.io/en/stable/reference/deprecation.html#deprecation-of-object-mode-fall-back-behaviour-when-using-jit for details.\u001b[0m\n",
      "  @jit(fastmath=True)\n"
     ]
    }
   ],
   "source": [
    "#Básicos para manipulacion de datos \n",
    "import pandas as pd\n",
    "import numpy as np\n",
    "#Graficas \n",
    "import matplotlib.pyplot as plt\n",
    "import seaborn as sns\n",
    "sns.set_theme()\n",
    "#Auxiliares\n",
    "from tqdm import tqdm\n",
    "from itertools import compress\n",
    "from sklearn.preprocessing import MinMaxScaler\n",
    "#Optimización multiobjetivo \n",
    "from pymoo.optimize import minimize\n",
    "from pymoo.core.repair import Repair\n",
    "#Algoritmos evolutivos\n",
    "from pymoo.algorithms.moo.nsga2 import NSGA2\n",
    "from pymoo.algorithms.moo.nsga3 import NSGA3\n",
    "from pymoo.algorithms.moo.age import AGEMOEA\n",
    "from pymoo.algorithms.moo.sms import SMSEMOA\n",
    "#Operadores \n",
    "from pymoo.visualization.scatter import Scatter\n",
    "#Features pymoo api \n",
    "from pymoo.problems import get_problem\n",
    "from pymoo.termination import get_termination\n",
    "from pymoo.problems import get_problem\n",
    "from pymoo.util.ref_dirs import get_reference_directions\n",
    "#Indicadores\n",
    "from pymoo.indicators.hv import HV\n",
    "#Población (soluciones)\n",
    "from pymoo.core.population import Population\n",
    "\n",
    "#Plugins \n",
    "from Plugins import pymoo_utils\n",
    "from Plugins import archieving_strategies\n",
    "from Plugins import operators"
   ]
  },
  {
   "cell_type": "markdown",
   "metadata": {},
   "source": [
    "## Problems Definitions"
   ]
  },
  {
   "cell_type": "code",
   "execution_count": 2,
   "metadata": {},
   "outputs": [],
   "source": [
    "#WFG Problems \n",
    "wfg_problems = ['wfg1', 'wfg2', 'wfg3', 'wfg4', 'wfg5', 'wfg6', 'wfg7', 'wfg8', 'wfg9']\n",
    "wfg_vars     = [24]*len(wfg_problems)\n",
    "wfg_obj      = [3]*len(wfg_problems)\n",
    "#DTLZ Problems \n",
    "dtlz_problems = ['dtlz1', 'dtlz2', 'dtlz3', 'dtlz4', 'dtlz5', 'dtlz6', 'dtlz7']\n",
    "dtlz_vars = [12]*len(dtlz_problems)\n",
    "dtlz_obj  = [3]*len(dtlz_problems)\n",
    "#ZDT Problems \n",
    "zdt_problems = ['zdt1', 'zdt2', 'zdt3', 'zdt4', 'zdt6']\n",
    "zdt_vars     = [np.nan]*len(zdt_problems)\n",
    "zdt_obj      = [np.nan]*len(zdt_problems)"
   ]
  },
  {
   "cell_type": "markdown",
   "metadata": {},
   "source": [
    "Tiempos de ejecución predefinidos"
   ]
  },
  {
   "cell_type": "code",
   "execution_count": 3,
   "metadata": {},
   "outputs": [],
   "source": [
    "n_ejec = 20\n",
    "n_gen  = 250"
   ]
  },
  {
   "cell_type": "markdown",
   "metadata": {},
   "source": [
    "# NSGA-II"
   ]
  },
  {
   "cell_type": "markdown",
   "metadata": {},
   "source": [
    "## WFG "
   ]
  },
  {
   "cell_type": "code",
   "execution_count": null,
   "metadata": {},
   "outputs": [],
   "source": [
    "#Baseline\n",
    "# pymoo_utils.get_solutions(wfg_problems, wfg_vars, wfg_obj, n_ejec, n_gen, 'nsgaii', \n",
    "#               {'pop_size':100, 'repair': operators.Simplex_Repair()}, \n",
    "#               name_oprt='baseline')\n",
    "#Samplings\n",
    "# pymoo_utils.get_solutions(wfg_problems, wfg_vars, wfg_obj, n_ejec, n_gen, 'nsgaii', \n",
    "#               {'pop_size':100,'sampling': operators.Sampling_Energy(), 'repair': operators.Simplex_Repair()}, \n",
    "#               name_oprt='sam_energy')\n",
    "# pymoo_utils.get_solutions(wfg_problems, wfg_vars, wfg_obj, n_ejec, n_gen, 'nsgaii', \n",
    "#               {'pop_size':100,'sampling': operators.Sampling_Uniform(), 'repair': operators.Simplex_Repair()}, \n",
    "#               name_oprt='sam_uniform')\n",
    "# pymoo_utils.get_solutions(wfg_problems, wfg_vars, wfg_obj, n_ejec, n_gen, 'nsgaii', \n",
    "#               {'pop_size':100,'sampling': operators.Sampling_RED_D(), 'repair': operators.Simplex_Repair()}, \n",
    "#               name_oprt='sam_redd')\n",
    "# pymoo_utils.get_solutions(wfg_problems, wfg_vars, wfg_obj, n_ejec, n_gen, 'nsgaii', \n",
    "#               {'pop_size':100,'sampling': operators.Sampling_MSS_D(), 'repair': operators.Simplex_Repair()}, \n",
    "#               name_oprt='sam_mssd')\n",
    "#Mutations\n",
    "# pymoo_utils.get_solutions(wfg_problems, wfg_vars, wfg_obj, n_ejec, n_gen, 'nsgaii', \n",
    "#               {'pop_size':100,'mutation': operators.Probability_Mutation(operators.mut_dirichlet), 'repair': operators.Simplex_Repair()}, \n",
    "#               name_oprt='mut_dirichlet')"
   ]
  },
  {
   "cell_type": "markdown",
   "metadata": {},
   "source": [
    "## DTLZ"
   ]
  },
  {
   "cell_type": "code",
   "execution_count": null,
   "metadata": {},
   "outputs": [],
   "source": [
    "#Baseline\n",
    "# pymoo_utils.get_solutions(dtlz_problems, dtlz_vars, dtlz_obj, n_ejec, n_gen, 'nsgaii', \n",
    "#               {'pop_size':100, 'repair': operators.Simplex_Repair()}, \n",
    "#               name_oprt='baseline')\n",
    "#Samplings\n",
    "# pymoo_utils.get_solutions(dtlz_problems, dtlz_vars, dtlz_obj, n_ejec, n_gen, 'nsgaii', \n",
    "#               {'pop_size':100,'sampling': operators.Sampling_Energy(), 'repair': operators.Simplex_Repair()}, \n",
    "#               name_oprt='sam_energy')\n",
    "# pymoo_utils.get_solutions(dtlz_problems, dtlz_vars, dtlz_obj, n_ejec, n_gen, 'nsgaii', \n",
    "#               {'pop_size':100,'sampling': operators.Sampling_Uniform(), 'repair': operators.Simplex_Repair()}, \n",
    "#               name_oprt='sam_uniform')\n",
    "# pymoo_utils.get_solutions(dtlz_problems, dtlz_vars, dtlz_obj, n_ejec, n_gen, 'nsgaii', \n",
    "#               {'pop_size':100,'sampling': operators.Sampling_RED_D(), 'repair': operators.Simplex_Repair()}, \n",
    "#               name_oprt='sam_redd')\n",
    "# pymoo_utils.get_solutions(dtlz_problems, dtlz_vars, dtlz_obj, n_ejec, n_gen, 'nsgaii', \n",
    "#               {'pop_size':100,'sampling': operators.Sampling_MSS_D(), 'repair': operators.Simplex_Repair()}, \n",
    "#               name_oprt='sam_mssd')\n",
    "# #Mutations\n",
    "# pymoo_utils.get_solutions(dtlz_problems, dtlz_vars, dtlz_obj, n_ejec, n_gen, 'nsgaii', \n",
    "#               {'pop_size':100,'mutation': operators.Probability_Mutation(operators.mut_dirichlet), 'repair': operators.Simplex_Repair()}, \n",
    "#               name_oprt='mut_dirichlet')\n"
   ]
  },
  {
   "cell_type": "markdown",
   "metadata": {},
   "source": [
    "## ZDT "
   ]
  },
  {
   "cell_type": "code",
   "execution_count": null,
   "metadata": {},
   "outputs": [],
   "source": [
    "#Baseline\n",
    "# pymoo_utils.get_solutions(zdt_problems, zdt_vars, zdt_obj, n_ejec, n_gen, 'nsgaii', \n",
    "#               {'pop_size':100, 'repair': operators.Simplex_Repair()}, \n",
    "#               name_oprt='baseline')\n",
    "#Samplings\n",
    "# pymoo_utils.get_solutions(zdt_problems, zdt_vars, zdt_obj, n_ejec, n_gen, 'nsgaii', \n",
    "#               {'pop_size':100,'sampling': operators.Sampling_Energy(), 'repair': operators.Simplex_Repair()}, \n",
    "#               name_oprt='sam_energy')\n",
    "# pymoo_utils.get_solutions(zdt_problems, zdt_vars, zdt_obj, n_ejec, n_gen, 'nsgaii', \n",
    "#               {'pop_size':100,'sampling': operators.Sampling_Uniform(), 'repair': operators.Simplex_Repair()}, \n",
    "#               name_oprt='sam_uniform')\n",
    "# pymoo_utils.get_solutions(zdt_problems, zdt_vars, zdt_obj, n_ejec, n_gen, 'nsgaii', \n",
    "#               {'pop_size':100,'sampling': operators.Sampling_RED_D(), 'repair': operators.Simplex_Repair()}, \n",
    "#               name_oprt='sam_redd')\n",
    "# pymoo_utils.get_solutions(zdt_problems, zdt_vars, zdt_obj, n_ejec, n_gen, 'nsgaii', \n",
    "#               {'pop_size':100,'sampling': operators.Sampling_MSS_D(), 'repair': operators.Simplex_Repair()}, \n",
    "#               name_oprt='sam_mssd')\n",
    "#Mutations\n",
    "# pymoo_utils.get_solutions(zdt_problems, zdt_vars, zdt_obj, n_ejec, n_gen, 'nsgaii', \n",
    "#               {'pop_size':100,'mutation': operators.Probability_Mutation(operators.mut_dirichlet), 'repair': operators.Simplex_Repair()}, \n",
    "#               name_oprt='mut_dirichlet')"
   ]
  },
  {
   "cell_type": "markdown",
   "metadata": {},
   "source": [
    "# AGE-MOEA"
   ]
  },
  {
   "cell_type": "code",
   "execution_count": 9,
   "metadata": {},
   "outputs": [
    {
     "name": "stdout",
     "output_type": "stream",
     "text": [
      "wfg1\n",
      "wfg2\n",
      "wfg3\n",
      "wfg4\n",
      "wfg5\n",
      "wfg6\n",
      "wfg7\n",
      "wfg8\n",
      "wfg9\n",
      "dtlz1\n"
     ]
    },
    {
     "name": "stderr",
     "output_type": "stream",
     "text": [
      "c:\\Users\\yeudi\\AppData\\Local\\Programs\\Python\\Python310\\lib\\site-packages\\pymoo\\algorithms\\moo\\age.py:132: RuntimeWarning: divide by zero encountered in divide\n",
      "  front = front / normalization\n",
      "c:\\Users\\yeudi\\AppData\\Local\\Programs\\Python\\Python310\\lib\\site-packages\\pymoo\\algorithms\\moo\\age.py:132: RuntimeWarning: invalid value encountered in divide\n",
      "  front = front / normalization\n",
      "c:\\Users\\yeudi\\AppData\\Local\\Programs\\Python\\Python310\\lib\\site-packages\\pymoo\\algorithms\\moo\\age.py:132: RuntimeWarning: divide by zero encountered in divide\n",
      "  front = front / normalization\n",
      "c:\\Users\\yeudi\\AppData\\Local\\Programs\\Python\\Python310\\lib\\site-packages\\pymoo\\algorithms\\moo\\age.py:132: RuntimeWarning: invalid value encountered in divide\n",
      "  front = front / normalization\n"
     ]
    },
    {
     "name": "stdout",
     "output_type": "stream",
     "text": [
      "dtlz2\n",
      "dtlz3\n"
     ]
    },
    {
     "name": "stderr",
     "output_type": "stream",
     "text": [
      "c:\\Users\\yeudi\\AppData\\Local\\Programs\\Python\\Python310\\lib\\site-packages\\pymoo\\algorithms\\moo\\age.py:132: RuntimeWarning: divide by zero encountered in divide\n",
      "  front = front / normalization\n",
      "c:\\Users\\yeudi\\AppData\\Local\\Programs\\Python\\Python310\\lib\\site-packages\\pymoo\\algorithms\\moo\\age.py:132: RuntimeWarning: invalid value encountered in divide\n",
      "  front = front / normalization\n",
      "c:\\Users\\yeudi\\AppData\\Local\\Programs\\Python\\Python310\\lib\\site-packages\\pymoo\\algorithms\\moo\\age.py:132: RuntimeWarning: divide by zero encountered in divide\n",
      "  front = front / normalization\n",
      "c:\\Users\\yeudi\\AppData\\Local\\Programs\\Python\\Python310\\lib\\site-packages\\pymoo\\algorithms\\moo\\age.py:132: RuntimeWarning: invalid value encountered in divide\n",
      "  front = front / normalization\n",
      "c:\\Users\\yeudi\\AppData\\Local\\Programs\\Python\\Python310\\lib\\site-packages\\pymoo\\algorithms\\moo\\age.py:132: RuntimeWarning: divide by zero encountered in divide\n",
      "  front = front / normalization\n",
      "c:\\Users\\yeudi\\AppData\\Local\\Programs\\Python\\Python310\\lib\\site-packages\\pymoo\\algorithms\\moo\\age.py:132: RuntimeWarning: invalid value encountered in divide\n",
      "  front = front / normalization\n",
      "c:\\Users\\yeudi\\AppData\\Local\\Programs\\Python\\Python310\\lib\\site-packages\\pymoo\\algorithms\\moo\\age.py:132: RuntimeWarning: invalid value encountered in divide\n",
      "  front = front / normalization\n",
      "c:\\Users\\yeudi\\AppData\\Local\\Programs\\Python\\Python310\\lib\\site-packages\\pymoo\\algorithms\\moo\\age.py:132: RuntimeWarning: divide by zero encountered in divide\n",
      "  front = front / normalization\n",
      "c:\\Users\\yeudi\\AppData\\Local\\Programs\\Python\\Python310\\lib\\site-packages\\pymoo\\algorithms\\moo\\age.py:132: RuntimeWarning: divide by zero encountered in divide\n",
      "  front = front / normalization\n",
      "c:\\Users\\yeudi\\AppData\\Local\\Programs\\Python\\Python310\\lib\\site-packages\\pymoo\\algorithms\\moo\\age.py:132: RuntimeWarning: invalid value encountered in divide\n",
      "  front = front / normalization\n",
      "c:\\Users\\yeudi\\AppData\\Local\\Programs\\Python\\Python310\\lib\\site-packages\\pymoo\\algorithms\\moo\\age.py:132: RuntimeWarning: divide by zero encountered in divide\n",
      "  front = front / normalization\n",
      "c:\\Users\\yeudi\\AppData\\Local\\Programs\\Python\\Python310\\lib\\site-packages\\pymoo\\algorithms\\moo\\age.py:132: RuntimeWarning: invalid value encountered in divide\n",
      "  front = front / normalization\n",
      "c:\\Users\\yeudi\\AppData\\Local\\Programs\\Python\\Python310\\lib\\site-packages\\pymoo\\algorithms\\moo\\age.py:132: RuntimeWarning: divide by zero encountered in divide\n",
      "  front = front / normalization\n",
      "c:\\Users\\yeudi\\AppData\\Local\\Programs\\Python\\Python310\\lib\\site-packages\\pymoo\\algorithms\\moo\\age.py:132: RuntimeWarning: invalid value encountered in divide\n",
      "  front = front / normalization\n",
      "c:\\Users\\yeudi\\AppData\\Local\\Programs\\Python\\Python310\\lib\\site-packages\\pymoo\\algorithms\\moo\\age.py:132: RuntimeWarning: invalid value encountered in divide\n",
      "  front = front / normalization\n",
      "c:\\Users\\yeudi\\AppData\\Local\\Programs\\Python\\Python310\\lib\\site-packages\\pymoo\\algorithms\\moo\\age.py:132: RuntimeWarning: divide by zero encountered in divide\n",
      "  front = front / normalization\n",
      "c:\\Users\\yeudi\\AppData\\Local\\Programs\\Python\\Python310\\lib\\site-packages\\pymoo\\algorithms\\moo\\age.py:132: RuntimeWarning: divide by zero encountered in divide\n",
      "  front = front / normalization\n",
      "c:\\Users\\yeudi\\AppData\\Local\\Programs\\Python\\Python310\\lib\\site-packages\\pymoo\\algorithms\\moo\\age.py:132: RuntimeWarning: invalid value encountered in divide\n",
      "  front = front / normalization\n",
      "c:\\Users\\yeudi\\AppData\\Local\\Programs\\Python\\Python310\\lib\\site-packages\\pymoo\\algorithms\\moo\\age.py:132: RuntimeWarning: divide by zero encountered in divide\n",
      "  front = front / normalization\n",
      "c:\\Users\\yeudi\\AppData\\Local\\Programs\\Python\\Python310\\lib\\site-packages\\pymoo\\algorithms\\moo\\age.py:132: RuntimeWarning: invalid value encountered in divide\n",
      "  front = front / normalization\n"
     ]
    },
    {
     "name": "stdout",
     "output_type": "stream",
     "text": [
      "dtlz4\n"
     ]
    },
    {
     "name": "stderr",
     "output_type": "stream",
     "text": [
      "c:\\Users\\yeudi\\AppData\\Local\\Programs\\Python\\Python310\\lib\\site-packages\\pymoo\\algorithms\\moo\\age.py:132: RuntimeWarning: divide by zero encountered in divide\n",
      "  front = front / normalization\n",
      "c:\\Users\\yeudi\\AppData\\Local\\Programs\\Python\\Python310\\lib\\site-packages\\pymoo\\algorithms\\moo\\age.py:132: RuntimeWarning: invalid value encountered in divide\n",
      "  front = front / normalization\n",
      "c:\\Users\\yeudi\\AppData\\Local\\Programs\\Python\\Python310\\lib\\site-packages\\pymoo\\algorithms\\moo\\age.py:132: RuntimeWarning: divide by zero encountered in divide\n",
      "  front = front / normalization\n",
      "c:\\Users\\yeudi\\AppData\\Local\\Programs\\Python\\Python310\\lib\\site-packages\\pymoo\\algorithms\\moo\\age.py:132: RuntimeWarning: invalid value encountered in divide\n",
      "  front = front / normalization\n",
      "c:\\Users\\yeudi\\AppData\\Local\\Programs\\Python\\Python310\\lib\\site-packages\\pymoo\\algorithms\\moo\\age.py:132: RuntimeWarning: divide by zero encountered in divide\n",
      "  front = front / normalization\n",
      "c:\\Users\\yeudi\\AppData\\Local\\Programs\\Python\\Python310\\lib\\site-packages\\pymoo\\algorithms\\moo\\age.py:132: RuntimeWarning: invalid value encountered in divide\n",
      "  front = front / normalization\n",
      "c:\\Users\\yeudi\\AppData\\Local\\Programs\\Python\\Python310\\lib\\site-packages\\pymoo\\algorithms\\moo\\age.py:132: RuntimeWarning: divide by zero encountered in divide\n",
      "  front = front / normalization\n",
      "c:\\Users\\yeudi\\AppData\\Local\\Programs\\Python\\Python310\\lib\\site-packages\\pymoo\\algorithms\\moo\\age.py:132: RuntimeWarning: invalid value encountered in divide\n",
      "  front = front / normalization\n",
      "c:\\Users\\yeudi\\AppData\\Local\\Programs\\Python\\Python310\\lib\\site-packages\\pymoo\\algorithms\\moo\\age.py:132: RuntimeWarning: divide by zero encountered in divide\n",
      "  front = front / normalization\n",
      "c:\\Users\\yeudi\\AppData\\Local\\Programs\\Python\\Python310\\lib\\site-packages\\pymoo\\algorithms\\moo\\age.py:132: RuntimeWarning: invalid value encountered in divide\n",
      "  front = front / normalization\n",
      "c:\\Users\\yeudi\\AppData\\Local\\Programs\\Python\\Python310\\lib\\site-packages\\pymoo\\algorithms\\moo\\age.py:132: RuntimeWarning: divide by zero encountered in divide\n",
      "  front = front / normalization\n",
      "c:\\Users\\yeudi\\AppData\\Local\\Programs\\Python\\Python310\\lib\\site-packages\\pymoo\\algorithms\\moo\\age.py:132: RuntimeWarning: invalid value encountered in divide\n",
      "  front = front / normalization\n",
      "c:\\Users\\yeudi\\AppData\\Local\\Programs\\Python\\Python310\\lib\\site-packages\\pymoo\\algorithms\\moo\\age.py:132: RuntimeWarning: divide by zero encountered in divide\n",
      "  front = front / normalization\n",
      "c:\\Users\\yeudi\\AppData\\Local\\Programs\\Python\\Python310\\lib\\site-packages\\pymoo\\algorithms\\moo\\age.py:132: RuntimeWarning: invalid value encountered in divide\n",
      "  front = front / normalization\n",
      "c:\\Users\\yeudi\\AppData\\Local\\Programs\\Python\\Python310\\lib\\site-packages\\pymoo\\algorithms\\moo\\age.py:132: RuntimeWarning: divide by zero encountered in divide\n",
      "  front = front / normalization\n",
      "c:\\Users\\yeudi\\AppData\\Local\\Programs\\Python\\Python310\\lib\\site-packages\\pymoo\\algorithms\\moo\\age.py:132: RuntimeWarning: invalid value encountered in divide\n",
      "  front = front / normalization\n",
      "c:\\Users\\yeudi\\AppData\\Local\\Programs\\Python\\Python310\\lib\\site-packages\\pymoo\\algorithms\\moo\\age.py:132: RuntimeWarning: divide by zero encountered in divide\n",
      "  front = front / normalization\n",
      "c:\\Users\\yeudi\\AppData\\Local\\Programs\\Python\\Python310\\lib\\site-packages\\pymoo\\algorithms\\moo\\age.py:132: RuntimeWarning: invalid value encountered in divide\n",
      "  front = front / normalization\n",
      "c:\\Users\\yeudi\\AppData\\Local\\Programs\\Python\\Python310\\lib\\site-packages\\pymoo\\algorithms\\moo\\age.py:132: RuntimeWarning: divide by zero encountered in divide\n",
      "  front = front / normalization\n",
      "c:\\Users\\yeudi\\AppData\\Local\\Programs\\Python\\Python310\\lib\\site-packages\\pymoo\\algorithms\\moo\\age.py:132: RuntimeWarning: invalid value encountered in divide\n",
      "  front = front / normalization\n",
      "c:\\Users\\yeudi\\AppData\\Local\\Programs\\Python\\Python310\\lib\\site-packages\\pymoo\\algorithms\\moo\\age.py:132: RuntimeWarning: divide by zero encountered in divide\n",
      "  front = front / normalization\n",
      "c:\\Users\\yeudi\\AppData\\Local\\Programs\\Python\\Python310\\lib\\site-packages\\pymoo\\algorithms\\moo\\age.py:132: RuntimeWarning: invalid value encountered in divide\n",
      "  front = front / normalization\n",
      "c:\\Users\\yeudi\\AppData\\Local\\Programs\\Python\\Python310\\lib\\site-packages\\pymoo\\algorithms\\moo\\age.py:132: RuntimeWarning: divide by zero encountered in divide\n",
      "  front = front / normalization\n",
      "c:\\Users\\yeudi\\AppData\\Local\\Programs\\Python\\Python310\\lib\\site-packages\\pymoo\\algorithms\\moo\\age.py:132: RuntimeWarning: invalid value encountered in divide\n",
      "  front = front / normalization\n",
      "c:\\Users\\yeudi\\AppData\\Local\\Programs\\Python\\Python310\\lib\\site-packages\\pymoo\\algorithms\\moo\\age.py:132: RuntimeWarning: divide by zero encountered in divide\n",
      "  front = front / normalization\n",
      "c:\\Users\\yeudi\\AppData\\Local\\Programs\\Python\\Python310\\lib\\site-packages\\pymoo\\algorithms\\moo\\age.py:132: RuntimeWarning: invalid value encountered in divide\n",
      "  front = front / normalization\n",
      "c:\\Users\\yeudi\\AppData\\Local\\Programs\\Python\\Python310\\lib\\site-packages\\pymoo\\algorithms\\moo\\age.py:132: RuntimeWarning: divide by zero encountered in divide\n",
      "  front = front / normalization\n",
      "c:\\Users\\yeudi\\AppData\\Local\\Programs\\Python\\Python310\\lib\\site-packages\\pymoo\\algorithms\\moo\\age.py:132: RuntimeWarning: invalid value encountered in divide\n",
      "  front = front / normalization\n",
      "c:\\Users\\yeudi\\AppData\\Local\\Programs\\Python\\Python310\\lib\\site-packages\\pymoo\\algorithms\\moo\\age.py:132: RuntimeWarning: divide by zero encountered in divide\n",
      "  front = front / normalization\n",
      "c:\\Users\\yeudi\\AppData\\Local\\Programs\\Python\\Python310\\lib\\site-packages\\pymoo\\algorithms\\moo\\age.py:132: RuntimeWarning: invalid value encountered in divide\n",
      "  front = front / normalization\n",
      "c:\\Users\\yeudi\\AppData\\Local\\Programs\\Python\\Python310\\lib\\site-packages\\pymoo\\algorithms\\moo\\age.py:132: RuntimeWarning: divide by zero encountered in divide\n",
      "  front = front / normalization\n",
      "c:\\Users\\yeudi\\AppData\\Local\\Programs\\Python\\Python310\\lib\\site-packages\\pymoo\\algorithms\\moo\\age.py:132: RuntimeWarning: invalid value encountered in divide\n",
      "  front = front / normalization\n",
      "c:\\Users\\yeudi\\AppData\\Local\\Programs\\Python\\Python310\\lib\\site-packages\\pymoo\\algorithms\\moo\\age.py:132: RuntimeWarning: divide by zero encountered in divide\n",
      "  front = front / normalization\n",
      "c:\\Users\\yeudi\\AppData\\Local\\Programs\\Python\\Python310\\lib\\site-packages\\pymoo\\algorithms\\moo\\age.py:132: RuntimeWarning: invalid value encountered in divide\n",
      "  front = front / normalization\n",
      "c:\\Users\\yeudi\\AppData\\Local\\Programs\\Python\\Python310\\lib\\site-packages\\pymoo\\algorithms\\moo\\age.py:132: RuntimeWarning: divide by zero encountered in divide\n",
      "  front = front / normalization\n",
      "c:\\Users\\yeudi\\AppData\\Local\\Programs\\Python\\Python310\\lib\\site-packages\\pymoo\\algorithms\\moo\\age.py:132: RuntimeWarning: invalid value encountered in divide\n",
      "  front = front / normalization\n",
      "c:\\Users\\yeudi\\AppData\\Local\\Programs\\Python\\Python310\\lib\\site-packages\\pymoo\\algorithms\\moo\\age.py:132: RuntimeWarning: divide by zero encountered in divide\n",
      "  front = front / normalization\n",
      "c:\\Users\\yeudi\\AppData\\Local\\Programs\\Python\\Python310\\lib\\site-packages\\pymoo\\algorithms\\moo\\age.py:132: RuntimeWarning: invalid value encountered in divide\n",
      "  front = front / normalization\n",
      "c:\\Users\\yeudi\\AppData\\Local\\Programs\\Python\\Python310\\lib\\site-packages\\pymoo\\algorithms\\moo\\age.py:132: RuntimeWarning: divide by zero encountered in divide\n",
      "  front = front / normalization\n",
      "c:\\Users\\yeudi\\AppData\\Local\\Programs\\Python\\Python310\\lib\\site-packages\\pymoo\\algorithms\\moo\\age.py:132: RuntimeWarning: invalid value encountered in divide\n",
      "  front = front / normalization\n"
     ]
    },
    {
     "name": "stdout",
     "output_type": "stream",
     "text": [
      "dtlz5\n",
      "dtlz6\n",
      "dtlz7\n",
      "zdt1\n",
      "zdt2\n",
      "zdt3\n",
      "zdt4\n",
      "zdt6\n",
      "wfg1\n",
      "wfg2\n",
      "wfg3\n",
      "wfg4\n",
      "wfg5\n",
      "wfg6\n",
      "wfg7\n",
      "wfg8\n",
      "wfg9\n",
      "dtlz1\n",
      "dtlz2\n",
      "dtlz3\n",
      "dtlz4\n",
      "dtlz5\n",
      "dtlz6\n",
      "dtlz7\n",
      "zdt1\n",
      "zdt2\n",
      "zdt3\n",
      "zdt4\n",
      "zdt6\n"
     ]
    },
    {
     "name": "stderr",
     "output_type": "stream",
     "text": [
      "c:\\Users\\yeudi\\AppData\\Local\\Programs\\Python\\Python310\\lib\\site-packages\\pymoo\\algorithms\\moo\\age.py:132: RuntimeWarning: divide by zero encountered in divide\n",
      "  front = front / normalization\n"
     ]
    }
   ],
   "source": [
    "pymoo_utils.get_solutions(wfg_problems, wfg_vars, wfg_obj, n_ejec, n_gen, 'age_moea', \n",
    "              {'pop_size':100,'sampling': operators.Sampling_RED_D(), 'repair': operators.Simplex_Repair()}, \n",
    "              name_oprt='sam_redd')\n",
    "pymoo_utils.get_solutions(dtlz_problems, dtlz_vars, dtlz_obj, n_ejec, n_gen, 'age_moea', \n",
    "              {'pop_size':100,'sampling': operators.Sampling_RED_D(), 'repair': operators.Simplex_Repair()}, \n",
    "              name_oprt='sam_redd')\n",
    "pymoo_utils.get_solutions(zdt_problems, zdt_vars, zdt_obj, n_ejec, n_gen, 'age_moea', \n",
    "              {'pop_size':100,'sampling': operators.Sampling_RED_D(), 'repair': operators.Simplex_Repair()}, \n",
    "              name_oprt='sam_redd')\n",
    "pymoo_utils.get_solutions(wfg_problems, wfg_vars, wfg_obj, n_ejec, n_gen, 'age_moea', \n",
    "              {'pop_size':100,'sampling': operators.Sampling_MSS_D(), 'repair': operators.Simplex_Repair()}, \n",
    "              name_oprt='sam_mssd')\n",
    "pymoo_utils.get_solutions(dtlz_problems, dtlz_vars, dtlz_obj, n_ejec, n_gen, 'age_moea', \n",
    "              {'pop_size':100,'sampling': operators.Sampling_MSS_D(), 'repair': operators.Simplex_Repair()}, \n",
    "              name_oprt='sam_mssd')\n",
    "pymoo_utils.get_solutions(zdt_problems, zdt_vars, zdt_obj, n_ejec, n_gen, 'age_moea', \n",
    "              {'pop_size':100,'sampling': operators.Sampling_MSS_D(), 'repair': operators.Simplex_Repair()}, \n",
    "              name_oprt='sam_mssd')"
   ]
  },
  {
   "cell_type": "markdown",
   "metadata": {},
   "source": [
    "## WFG"
   ]
  },
  {
   "cell_type": "code",
   "execution_count": null,
   "metadata": {},
   "outputs": [],
   "source": [
    "#Baseline\n",
    "# pymoo_utils.get_solutions(wfg_problems, wfg_vars, wfg_obj, n_ejec, n_gen, 'age_moea', \n",
    "#               {'pop_size':100, 'repair': operators.Simplex_Repair()}, \n",
    "#               name_oprt='baseline')\n",
    "#Samplings\n",
    "# pymoo_utils.get_solutions(wfg_problems, wfg_vars, wfg_obj, n_ejec, n_gen, 'age_moea', \n",
    "#               {'pop_size':100,'sampling': operators.Sampling_Energy(), 'repair': operators.Simplex_Repair()}, \n",
    "#               name_oprt='sam_energy')\n",
    "# pymoo_utils.get_solutions(wfg_problems, wfg_vars, wfg_obj, n_ejec, n_gen, 'age_moea', \n",
    "#               {'pop_size':100,'sampling': operators.Sampling_Uniform(), 'repair': operators.Simplex_Repair()}, \n",
    "#               name_oprt='sam_uniform')\n",
    "#Mutations\n",
    "# pymoo_utils.get_solutions(wfg_problems, wfg_vars, wfg_obj, n_ejec, n_gen, 'age_moea', \n",
    "#               {'pop_size':100,'mutation': operators.Probability_Mutation(operators.mut_dirichlet), 'repair': operators.Simplex_Repair()}, \n",
    "#               name_oprt='mut_dirichlet')"
   ]
  },
  {
   "cell_type": "markdown",
   "metadata": {},
   "source": [
    "## DTLZ"
   ]
  },
  {
   "cell_type": "code",
   "execution_count": null,
   "metadata": {},
   "outputs": [],
   "source": [
    "#Baseline\n",
    "# pymoo_utils.get_solutions(dtlz_problems, dtlz_vars, dtlz_obj, n_ejec, n_gen, 'age_moea', \n",
    "#               {'pop_size':100, 'repair': operators.Simplex_Repair()}, \n",
    "#               name_oprt='baseline')\n",
    "#Samplings\n",
    "# pymoo_utils.get_solutions(dtlz_problems, dtlz_vars, dtlz_obj, n_ejec, n_gen, 'age_moea', \n",
    "#               {'pop_size':100,'sampling': operators.Sampling_Energy(), 'repair': operators.Simplex_Repair()}, \n",
    "#               name_oprt='sam_energy')\n",
    "# pymoo_utils.get_solutions(dtlz_problems, dtlz_vars, dtlz_obj, n_ejec, n_gen, 'age_moea', \n",
    "#               {'pop_size':100,'sampling': operators.Sampling_Uniform(), 'repair': operators.Simplex_Repair()}, \n",
    "#               name_oprt='sam_uniform')\n",
    "#Mutations\n",
    "# pymoo_utils.get_solutions(dtlz_problems, dtlz_vars, dtlz_obj, n_ejec, n_gen, 'age_moea', \n",
    "#               {'pop_size':100,'mutation': operators.Probability_Mutation(operators.mut_dirichlet), 'repair': operators.Simplex_Repair()}, \n",
    "#               name_oprt='mut_dirichlet')"
   ]
  },
  {
   "cell_type": "markdown",
   "metadata": {},
   "source": [
    "## ZDT"
   ]
  },
  {
   "cell_type": "code",
   "execution_count": null,
   "metadata": {},
   "outputs": [],
   "source": [
    "#Baseline\n",
    "# pymoo_utils.get_solutions(zdt_problems, zdt_vars, zdt_obj, n_ejec, n_gen, 'age_moea', \n",
    "#               {'pop_size':100, 'repair': operators.Simplex_Repair()}, \n",
    "#               name_oprt='baseline')\n",
    "#Samplings\n",
    "# pymoo_utils.get_solutions(zdt_problems, zdt_vars, zdt_obj, n_ejec, n_gen, 'age_moea', \n",
    "#               {'pop_size':100,'sampling': operators.Sampling_Energy(), 'repair': operators.Simplex_Repair()}, \n",
    "#               name_oprt='sam_energy')\n",
    "# pymoo_utils.get_solutions(zdt_problems, zdt_vars, zdt_obj, n_ejec, n_gen, 'age_moea', \n",
    "#               {'pop_size':100,'sampling': operators.Sampling_Uniform(), 'repair': operators.Simplex_Repair()}, \n",
    "#               name_oprt='sam_uniform')\n",
    "#Mutations\n",
    "# pymoo_utils.get_solutions(zdt_problems, zdt_vars, zdt_obj, n_ejec, n_gen, 'age_moea', \n",
    "#               {'pop_size':100,'mutation': operators.Probability_Mutation(operators.mut_dirichlet), 'repair': operators.Simplex_Repair()}, \n",
    "#               name_oprt='mut_dirichlet')"
   ]
  },
  {
   "cell_type": "markdown",
   "metadata": {},
   "source": [
    "# NSGA-III"
   ]
  },
  {
   "cell_type": "code",
   "execution_count": null,
   "metadata": {},
   "outputs": [],
   "source": [
    "n_ejec = 20 \n",
    "n_gen =250\n",
    "ref_dirs_3D = get_reference_directions(\"energy\", 3, 99, seed=42)\n",
    "ref_dirs_2D = get_reference_directions(\"energy\", 2, 99, seed=42)"
   ]
  },
  {
   "cell_type": "markdown",
   "metadata": {},
   "source": [
    "## WFG"
   ]
  },
  {
   "cell_type": "code",
   "execution_count": null,
   "metadata": {},
   "outputs": [],
   "source": [
    "#Baseline\n",
    "# pymoo_utils.get_solutions(wfg_problems, wfg_vars, wfg_obj, n_ejec, n_gen, 'nsgaiii', \n",
    "#               {'pop_size':100, 'ref_dirs':ref_dirs_3D, 'repair': operators.Simplex_Repair()}, \n",
    "#               name_oprt='baseline')\n",
    "#Samplings\n",
    "# pymoo_utils.get_solutions(wfg_problems, wfg_vars, wfg_obj, n_ejec, n_gen, 'nsgaiii', \n",
    "#               {'pop_size':100,'ref_dirs':ref_dirs_3D,'sampling': operators.Sampling_Energy(), 'repair': operators.Simplex_Repair()}, \n",
    "#               name_oprt='sam_energy')\n",
    "# pymoo_utils.get_solutions(wfg_problems, wfg_vars, wfg_obj, n_ejec, n_gen, 'nsgaiii', \n",
    "#               {'pop_size':100,'ref_dirs':ref_dirs_3D, 'sampling': operators.Sampling_Uniform(), 'repair': operators.Simplex_Repair()}, \n",
    "#               name_oprt='sam_uniform')\n",
    "#Mutations\n",
    "# pymoo_utils.get_solutions(wfg_problems, wfg_vars, wfg_obj, n_ejec, n_gen, 'nsgaiii', \n",
    "#               {'pop_size':100,'ref_dirs':ref_dirs_3D, 'mutation': operators.Probability_Mutation(operators.mut_dirichlet), 'repair': operators.Simplex_Repair()}, \n",
    "#               name_oprt='mut_dirichlet')"
   ]
  },
  {
   "cell_type": "markdown",
   "metadata": {},
   "source": [
    "## DTLZ"
   ]
  },
  {
   "cell_type": "code",
   "execution_count": null,
   "metadata": {},
   "outputs": [],
   "source": [
    "#Baseline\n",
    "# pymoo_utils.get_solutions(dtlz_problems, dtlz_vars, dtlz_obj, n_ejec, n_gen, 'nsgaiii', \n",
    "#               {'pop_size':100, 'ref_dirs':ref_dirs_3D, 'repair': operators.Simplex_Repair()}, \n",
    "#               name_oprt='baseline')\n",
    "#Samplings\n",
    "# pymoo_utils.get_solutions(dtlz_problems, dtlz_vars, dtlz_obj, n_ejec, n_gen, 'nsgaiii', \n",
    "#               {'pop_size':100,'ref_dirs':ref_dirs_3D,'sampling': operators.Sampling_Energy(), 'repair': operators.Simplex_Repair()}, \n",
    "#               name_oprt='sam_energy')\n",
    "# pymoo_utils.get_solutions(dtlz_problems, dtlz_vars, dtlz_obj, n_ejec, n_gen, 'nsgaiii', \n",
    "#               {'pop_size':100,'ref_dirs':ref_dirs_3D, 'sampling': operators.Sampling_Uniform(), 'repair': operators.Simplex_Repair()}, \n",
    "#               name_oprt='sam_uniform')\n",
    "#Mutations\n",
    "# pymoo_utils.get_solutions(dtlz_problems, dtlz_vars, dtlz_obj, n_ejec, n_gen, 'nsgaiii', \n",
    "#               {'pop_size':100,'ref_dirs':ref_dirs_3D, 'mutation': operators.Probability_Mutation(operators.mut_dirichlet), 'repair': operators.Simplex_Repair()}, \n",
    "#               name_oprt='mut_dirichlet')"
   ]
  },
  {
   "cell_type": "markdown",
   "metadata": {},
   "source": [
    "## ZDT"
   ]
  },
  {
   "cell_type": "code",
   "execution_count": null,
   "metadata": {},
   "outputs": [],
   "source": [
    "#Baseline\n",
    "# pymoo_utils.get_solutions(zdt_problems, zdt_vars, zdt_obj, n_ejec, n_gen, 'nsgaiii', \n",
    "#               {'pop_size':100, 'ref_dirs':ref_dirs_2D, 'repair': operators.Simplex_Repair()}, \n",
    "#               name_oprt='baseline')\n",
    "#Samplings\n",
    "# pymoo_utils.get_solutions(zdt_problems, zdt_vars, zdt_obj, n_ejec, n_gen, 'nsgaiii', \n",
    "#               {'pop_size':100,'ref_dirs':ref_dirs_2D,'sampling': operators.Sampling_Energy(), 'repair': operators.Simplex_Repair()}, \n",
    "#               name_oprt='sam_energy')\n",
    "# pymoo_utils.get_solutions(zdt_problems, zdt_vars, zdt_obj, n_ejec, n_gen, 'nsgaiii', \n",
    "#               {'pop_size':100,'ref_dirs':ref_dirs_2D, 'sampling': operators.Sampling_Uniform(), 'repair': operators.Simplex_Repair()}, \n",
    "#               name_oprt='sam_uniform')\n",
    "#Mutations\n",
    "# pymoo_utils.get_solutions(zdt_problems, zdt_vars, zdt_obj, n_ejec, n_gen, 'nsgaiii', \n",
    "#               {'pop_size':100,'ref_dirs':ref_dirs_2D, 'mutation': operators.Probability_Mutation(operators.mut_dirichlet), 'repair': operators.Simplex_Repair()}, \n",
    "#               name_oprt='mut_dirichlet')"
   ]
  },
  {
   "cell_type": "markdown",
   "metadata": {},
   "source": [
    "# MOEA/D"
   ]
  },
  {
   "cell_type": "markdown",
   "metadata": {},
   "source": [
    "## WFG"
   ]
  },
  {
   "cell_type": "markdown",
   "metadata": {},
   "source": [
    "## DTLZ"
   ]
  },
  {
   "cell_type": "markdown",
   "metadata": {},
   "source": [
    "## ZDT"
   ]
  },
  {
   "cell_type": "markdown",
   "metadata": {},
   "source": [
    "## Review NaN errors"
   ]
  },
  {
   "cell_type": "code",
   "execution_count": 10,
   "metadata": {},
   "outputs": [],
   "source": [
    "def checkingNaNs(problems, oprts, name_algorithm): \n",
    "    count_missing = 0\n",
    "    count_error_shape = 0 \n",
    "    for problem in problems: \n",
    "        for name_oprt in oprts: \n",
    "            Mega_X = np.load('Solutions/'+name_algorithm+'/'+problem+'_'+name_oprt+'_X.npy')\n",
    "            Mega_F = np.load('Solutions/'+name_algorithm+'/'+problem+'_'+name_oprt+'_F.npy')\n",
    "            #print(Mega_X.shape)\n",
    "            #print(Mega_F.shape)\n",
    "            if np.any(Mega_X.shape[:3]!= (20, 250, 100)): \n",
    "                count_error_shape+=1 \n",
    "                print(problem, name_algorithm, name_oprt,'Error shape')\n",
    "            if np.any(Mega_F.shape[:3]!= (20, 250, 100)): \n",
    "                print(problem, name_algorithm, name_oprt, 'Error shape')\n",
    "            if np.any(np.isnan(Mega_X))!=0: \n",
    "                count_missing +=1\n",
    "                print(problem, name_oprt, Mega_X.shape, np.sum(np.isnan(Mega_X)))\n",
    "            if np.any(np.isnan(Mega_F))!=0: \n",
    "                print(problem, name_oprt, Mega_F.shape, np.sum(np.isnan(Mega_F)))\n",
    "    print('Total of Datasets with missingsproblems: ', count_missing)\n",
    "    print('Total of Datasets with incorrection shape: ', count_error_shape)\n",
    "            "
   ]
  },
  {
   "cell_type": "code",
   "execution_count": 11,
   "metadata": {},
   "outputs": [
    {
     "name": "stdout",
     "output_type": "stream",
     "text": [
      "nsgaii\n",
      "Total of Datasets with missingsproblems:  0\n",
      "Total of Datasets with incorrection shape:  0\n",
      "age_moea\n",
      "Total of Datasets with missingsproblems:  0\n",
      "Total of Datasets with incorrection shape:  0\n"
     ]
    }
   ],
   "source": [
    "wfg_problems = ['wfg1', 'wfg2', 'wfg3', 'wfg4', 'wfg5', 'wfg6', 'wfg7', 'wfg8', 'wfg9']\n",
    "dtlz_problems = ['dtlz1', 'dtlz2', 'dtlz3', 'dtlz4', 'dtlz5', 'dtlz6', 'dtlz7']\n",
    "zdt_problems = ['zdt1', 'zdt2', 'zdt3', 'zdt4', 'zdt6']\n",
    "algorithms = ['nsgaii', 'age_moea'] #, 'age_moea', 'nsgaiii'\n",
    "methods = ['baseline', 'sam_energy', 'sam_uniform', 'mut_dirichlet']\n",
    "for algorithm in algorithms: \n",
    "    print(algorithm)\n",
    "    checkingNaNs(wfg_problems+dtlz_problems+zdt_problems, methods,  algorithm)"
   ]
  }
 ],
 "metadata": {
  "kernelspec": {
   "display_name": "Python 3",
   "language": "python",
   "name": "python3"
  },
  "language_info": {
   "codemirror_mode": {
    "name": "ipython",
    "version": 3
   },
   "file_extension": ".py",
   "mimetype": "text/x-python",
   "name": "python",
   "nbconvert_exporter": "python",
   "pygments_lexer": "ipython3",
   "version": "3.10.8"
  },
  "orig_nbformat": 4
 },
 "nbformat": 4,
 "nbformat_minor": 2
}
